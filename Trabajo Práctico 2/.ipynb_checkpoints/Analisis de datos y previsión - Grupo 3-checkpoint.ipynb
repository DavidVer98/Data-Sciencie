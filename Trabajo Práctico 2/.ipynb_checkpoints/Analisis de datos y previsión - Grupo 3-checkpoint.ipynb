{
 "cells": [
  {
   "cell_type": "markdown",
   "id": "111739c8",
   "metadata": {},
   "source": [
    "# Análisis Exploratorio de Datos y Previsión \n",
    "\n",
    "Esta tarea requiere analizar datos compartidos en Redes Sociales.  \n",
    "\n",
    "Debe realizar dos tareas principales:\n",
    "\n",
    "- el análisis exploratorio de datos utilizando los conjuntos de datos proporcionados.\n",
    "- predecir cuántas veces será compartido en Redes Sociales un artículo de Machine Learning segun algunas de sus características"
   ]
  },
  {
   "cell_type": "code",
   "execution_count": 33,
   "id": "694c07a9",
   "metadata": {},
   "outputs": [],
   "source": [
    "# importar librerías\n",
    "import pandas as pd\n",
    "import matplotlib.pyplot as plt\n",
    "import seaborn as sns\n",
    "import numpy as np\n"
   ]
  },
  {
   "cell_type": "code",
   "execution_count": 20,
   "id": "982180c0",
   "metadata": {
    "scrolled": true
   },
   "outputs": [],
   "source": [
    "# cargar del conjunto de datos\n",
    "pd.read_csv('articulos_ml-1.csv', sep=',')\n",
    "datos = pd.read_csv('articulos_ml-1.csv', sep=',')\n"
   ]
  },
  {
   "cell_type": "code",
   "execution_count": 21,
   "id": "bbefc7ae",
   "metadata": {},
   "outputs": [
    {
     "name": "stdout",
     "output_type": "stream",
     "text": [
      "<class 'pandas.core.frame.DataFrame'>\n",
      "RangeIndex: 161 entries, 0 to 160\n",
      "Data columns (total 8 columns):\n",
      " #   Column          Non-Null Count  Dtype  \n",
      "---  ------          --------------  -----  \n",
      " 0   Title           161 non-null    object \n",
      " 1   url             122 non-null    object \n",
      " 2   Word count      161 non-null    int64  \n",
      " 3   # of Links      161 non-null    int64  \n",
      " 4   # of comments   129 non-null    float64\n",
      " 5   # Images video  161 non-null    int64  \n",
      " 6   Elapsed days    161 non-null    int64  \n",
      " 7   # Shares        161 non-null    int64  \n",
      "dtypes: float64(1), int64(5), object(2)\n",
      "memory usage: 10.2+ KB\n"
     ]
    }
   ],
   "source": [
    "# con data.info() verifico el numero total de elementos que tiene not-null\n",
    "datos.info()"
   ]
  },
  {
   "cell_type": "markdown",
   "id": "ed7df91e",
   "metadata": {},
   "source": [
    "### Preguntas"
   ]
  },
  {
   "cell_type": "code",
   "execution_count": 22,
   "id": "a91b5606",
   "metadata": {},
   "outputs": [],
   "source": [
    "# visualizar los datos para conocer la información básica y responda las siguientes preguntas:\n",
    "# 1. de que tratan los datos?, describa la característica de sus columas\n",
    "# 2. que tipos de datos tiene? \n",
    "# 3. existen datos faltantes?\n",
    "# 4. cual es su dimensión?"
   ]
  },
  {
   "cell_type": "markdown",
   "id": "c3de87de",
   "metadata": {},
   "source": [
    "### Respuestas"
   ]
  },
  {
   "cell_type": "code",
   "execution_count": 23,
   "id": "2c73467a",
   "metadata": {},
   "outputs": [],
   "source": [
    "# 1. Los datos son sobre información recolectada de urls relacionados al \n",
    "# mundo de TI, por ejemplo Artificial Intelligence, Machine Learning, Google's Cloud entre otros\n",
    "\n",
    "# 2. Hay información referente al título, recuento de palabras, N.º de enlaces, N.º de comentarios, N.º de imágenes \n",
    "# Vídeos, Días transcurridos N.º y compartido.\n",
    "\n",
    "# 3. Si existe faltantes en varias de las columnas, tales como el  url y nro de comentarios, \n",
    "# se puede verificar con datos.info()\n",
    "\n",
    "# 4. El dataset tiene la dimension de 161 rows × 8 columns\n"
   ]
  },
  {
   "cell_type": "code",
   "execution_count": 24,
   "id": "7a1141e5",
   "metadata": {},
   "outputs": [],
   "source": [
    "# Realizar un resumen estadístico e interpretar la información"
   ]
  },
  {
   "cell_type": "code",
   "execution_count": 25,
   "id": "5013b446",
   "metadata": {},
   "outputs": [
    {
     "data": {
      "text/html": [
       "<div>\n",
       "<style scoped>\n",
       "    .dataframe tbody tr th:only-of-type {\n",
       "        vertical-align: middle;\n",
       "    }\n",
       "\n",
       "    .dataframe tbody tr th {\n",
       "        vertical-align: top;\n",
       "    }\n",
       "\n",
       "    .dataframe thead th {\n",
       "        text-align: right;\n",
       "    }\n",
       "</style>\n",
       "<table border=\"1\" class=\"dataframe\">\n",
       "  <thead>\n",
       "    <tr style=\"text-align: right;\">\n",
       "      <th></th>\n",
       "      <th>Word count</th>\n",
       "      <th># of Links</th>\n",
       "      <th># of comments</th>\n",
       "      <th># Images video</th>\n",
       "      <th>Elapsed days</th>\n",
       "      <th># Shares</th>\n",
       "    </tr>\n",
       "  </thead>\n",
       "  <tbody>\n",
       "    <tr>\n",
       "      <th>count</th>\n",
       "      <td>161.000000</td>\n",
       "      <td>161.000000</td>\n",
       "      <td>129.000000</td>\n",
       "      <td>161.000000</td>\n",
       "      <td>161.000000</td>\n",
       "      <td>161.000000</td>\n",
       "    </tr>\n",
       "    <tr>\n",
       "      <th>mean</th>\n",
       "      <td>1808.260870</td>\n",
       "      <td>9.739130</td>\n",
       "      <td>8.782946</td>\n",
       "      <td>3.670807</td>\n",
       "      <td>98.124224</td>\n",
       "      <td>27948.347826</td>\n",
       "    </tr>\n",
       "    <tr>\n",
       "      <th>std</th>\n",
       "      <td>1141.919385</td>\n",
       "      <td>47.271625</td>\n",
       "      <td>13.142822</td>\n",
       "      <td>3.418290</td>\n",
       "      <td>114.337535</td>\n",
       "      <td>43408.006839</td>\n",
       "    </tr>\n",
       "    <tr>\n",
       "      <th>min</th>\n",
       "      <td>250.000000</td>\n",
       "      <td>0.000000</td>\n",
       "      <td>0.000000</td>\n",
       "      <td>1.000000</td>\n",
       "      <td>1.000000</td>\n",
       "      <td>0.000000</td>\n",
       "    </tr>\n",
       "    <tr>\n",
       "      <th>25%</th>\n",
       "      <td>990.000000</td>\n",
       "      <td>3.000000</td>\n",
       "      <td>2.000000</td>\n",
       "      <td>1.000000</td>\n",
       "      <td>31.000000</td>\n",
       "      <td>2800.000000</td>\n",
       "    </tr>\n",
       "    <tr>\n",
       "      <th>50%</th>\n",
       "      <td>1674.000000</td>\n",
       "      <td>5.000000</td>\n",
       "      <td>6.000000</td>\n",
       "      <td>3.000000</td>\n",
       "      <td>62.000000</td>\n",
       "      <td>16458.000000</td>\n",
       "    </tr>\n",
       "    <tr>\n",
       "      <th>75%</th>\n",
       "      <td>2369.000000</td>\n",
       "      <td>7.000000</td>\n",
       "      <td>12.000000</td>\n",
       "      <td>5.000000</td>\n",
       "      <td>124.000000</td>\n",
       "      <td>35691.000000</td>\n",
       "    </tr>\n",
       "    <tr>\n",
       "      <th>max</th>\n",
       "      <td>8401.000000</td>\n",
       "      <td>600.000000</td>\n",
       "      <td>104.000000</td>\n",
       "      <td>22.000000</td>\n",
       "      <td>1002.000000</td>\n",
       "      <td>350000.000000</td>\n",
       "    </tr>\n",
       "  </tbody>\n",
       "</table>\n",
       "</div>"
      ],
      "text/plain": [
       "        Word count  # of Links  # of comments  # Images video  Elapsed days  \\\n",
       "count   161.000000  161.000000     129.000000      161.000000    161.000000   \n",
       "mean   1808.260870    9.739130       8.782946        3.670807     98.124224   \n",
       "std    1141.919385   47.271625      13.142822        3.418290    114.337535   \n",
       "min     250.000000    0.000000       0.000000        1.000000      1.000000   \n",
       "25%     990.000000    3.000000       2.000000        1.000000     31.000000   \n",
       "50%    1674.000000    5.000000       6.000000        3.000000     62.000000   \n",
       "75%    2369.000000    7.000000      12.000000        5.000000    124.000000   \n",
       "max    8401.000000  600.000000     104.000000       22.000000   1002.000000   \n",
       "\n",
       "            # Shares  \n",
       "count     161.000000  \n",
       "mean    27948.347826  \n",
       "std     43408.006839  \n",
       "min         0.000000  \n",
       "25%      2800.000000  \n",
       "50%     16458.000000  \n",
       "75%     35691.000000  \n",
       "max    350000.000000  "
      ]
     },
     "execution_count": 25,
     "metadata": {},
     "output_type": "execute_result"
    }
   ],
   "source": [
    "datos.describe()"
   ]
  },
  {
   "cell_type": "code",
   "execution_count": 26,
   "id": "dca563f5",
   "metadata": {},
   "outputs": [],
   "source": [
    "# Realizar una visualización general de los datos"
   ]
  },
  {
   "cell_type": "code",
   "execution_count": 27,
   "id": "b18be73a",
   "metadata": {
    "scrolled": true
   },
   "outputs": [
    {
     "data": {
      "text/html": [
       "<div>\n",
       "<style scoped>\n",
       "    .dataframe tbody tr th:only-of-type {\n",
       "        vertical-align: middle;\n",
       "    }\n",
       "\n",
       "    .dataframe tbody tr th {\n",
       "        vertical-align: top;\n",
       "    }\n",
       "\n",
       "    .dataframe thead th {\n",
       "        text-align: right;\n",
       "    }\n",
       "</style>\n",
       "<table border=\"1\" class=\"dataframe\">\n",
       "  <thead>\n",
       "    <tr style=\"text-align: right;\">\n",
       "      <th></th>\n",
       "      <th>Title</th>\n",
       "      <th>url</th>\n",
       "      <th>Word count</th>\n",
       "      <th># of Links</th>\n",
       "      <th># of comments</th>\n",
       "      <th># Images video</th>\n",
       "      <th>Elapsed days</th>\n",
       "      <th># Shares</th>\n",
       "    </tr>\n",
       "  </thead>\n",
       "  <tbody>\n",
       "    <tr>\n",
       "      <th>0</th>\n",
       "      <td>What is Machine Learning and how do we use it ...</td>\n",
       "      <td>https://blog.signals.network/what-is-machine-l...</td>\n",
       "      <td>1888</td>\n",
       "      <td>1</td>\n",
       "      <td>2.0</td>\n",
       "      <td>2</td>\n",
       "      <td>34</td>\n",
       "      <td>200000</td>\n",
       "    </tr>\n",
       "    <tr>\n",
       "      <th>1</th>\n",
       "      <td>10 Companies Using Machine Learning in Cool Ways</td>\n",
       "      <td>NaN</td>\n",
       "      <td>1742</td>\n",
       "      <td>9</td>\n",
       "      <td>NaN</td>\n",
       "      <td>9</td>\n",
       "      <td>5</td>\n",
       "      <td>25000</td>\n",
       "    </tr>\n",
       "    <tr>\n",
       "      <th>2</th>\n",
       "      <td>How Artificial Intelligence Is Revolutionizing...</td>\n",
       "      <td>NaN</td>\n",
       "      <td>962</td>\n",
       "      <td>6</td>\n",
       "      <td>0.0</td>\n",
       "      <td>1</td>\n",
       "      <td>10</td>\n",
       "      <td>42000</td>\n",
       "    </tr>\n",
       "    <tr>\n",
       "      <th>3</th>\n",
       "      <td>Dbrain and the Blockchain of Artificial Intell...</td>\n",
       "      <td>NaN</td>\n",
       "      <td>1221</td>\n",
       "      <td>3</td>\n",
       "      <td>NaN</td>\n",
       "      <td>2</td>\n",
       "      <td>68</td>\n",
       "      <td>200000</td>\n",
       "    </tr>\n",
       "    <tr>\n",
       "      <th>4</th>\n",
       "      <td>Nasa finds entire solar system filled with eig...</td>\n",
       "      <td>NaN</td>\n",
       "      <td>2039</td>\n",
       "      <td>1</td>\n",
       "      <td>104.0</td>\n",
       "      <td>4</td>\n",
       "      <td>131</td>\n",
       "      <td>200000</td>\n",
       "    </tr>\n",
       "    <tr>\n",
       "      <th>...</th>\n",
       "      <td>...</td>\n",
       "      <td>...</td>\n",
       "      <td>...</td>\n",
       "      <td>...</td>\n",
       "      <td>...</td>\n",
       "      <td>...</td>\n",
       "      <td>...</td>\n",
       "      <td>...</td>\n",
       "    </tr>\n",
       "    <tr>\n",
       "      <th>156</th>\n",
       "      <td>[Log] 83: How Google Uses Machine Learning And...</td>\n",
       "      <td>[Log] 83: http://feedproxy.google.com/~r/Techc...</td>\n",
       "      <td>3239</td>\n",
       "      <td>3</td>\n",
       "      <td>11.0</td>\n",
       "      <td>1</td>\n",
       "      <td>84</td>\n",
       "      <td>3239</td>\n",
       "    </tr>\n",
       "    <tr>\n",
       "      <th>157</th>\n",
       "      <td>[Log] 84: Zuck Knows If You've Been Bad Or Goo...</td>\n",
       "      <td>[Log] 84: http://feedproxy.google.com/~r/Techc...</td>\n",
       "      <td>2566</td>\n",
       "      <td>3</td>\n",
       "      <td>8.0</td>\n",
       "      <td>4</td>\n",
       "      <td>85</td>\n",
       "      <td>25019</td>\n",
       "    </tr>\n",
       "    <tr>\n",
       "      <th>158</th>\n",
       "      <td>[Log] 85: Microsoft Improves Windows Phone Voi...</td>\n",
       "      <td>[Log] 85: http://feedproxy.google.com/~r/Techc...</td>\n",
       "      <td>2089</td>\n",
       "      <td>4</td>\n",
       "      <td>4.0</td>\n",
       "      <td>1</td>\n",
       "      <td>86</td>\n",
       "      <td>49614</td>\n",
       "    </tr>\n",
       "    <tr>\n",
       "      <th>159</th>\n",
       "      <td>[Log] 86: How Google's Acquisition Of DNNresea...</td>\n",
       "      <td>[Log] 86: http://feedproxy.google.com/~r/Techc...</td>\n",
       "      <td>1530</td>\n",
       "      <td>4</td>\n",
       "      <td>12.0</td>\n",
       "      <td>3</td>\n",
       "      <td>87</td>\n",
       "      <td>33660</td>\n",
       "    </tr>\n",
       "    <tr>\n",
       "      <th>160</th>\n",
       "      <td>[Log] 87: Google's Cloud Is Eating Apple's Lunch</td>\n",
       "      <td>[Log] 87: http://feedproxy.google.com/~r/Techc...</td>\n",
       "      <td>953</td>\n",
       "      <td>6</td>\n",
       "      <td>13.0</td>\n",
       "      <td>2</td>\n",
       "      <td>88</td>\n",
       "      <td>5956</td>\n",
       "    </tr>\n",
       "  </tbody>\n",
       "</table>\n",
       "<p>161 rows × 8 columns</p>\n",
       "</div>"
      ],
      "text/plain": [
       "                                                 Title  \\\n",
       "0    What is Machine Learning and how do we use it ...   \n",
       "1     10 Companies Using Machine Learning in Cool Ways   \n",
       "2    How Artificial Intelligence Is Revolutionizing...   \n",
       "3    Dbrain and the Blockchain of Artificial Intell...   \n",
       "4    Nasa finds entire solar system filled with eig...   \n",
       "..                                                 ...   \n",
       "156  [Log] 83: How Google Uses Machine Learning And...   \n",
       "157  [Log] 84: Zuck Knows If You've Been Bad Or Goo...   \n",
       "158  [Log] 85: Microsoft Improves Windows Phone Voi...   \n",
       "159  [Log] 86: How Google's Acquisition Of DNNresea...   \n",
       "160   [Log] 87: Google's Cloud Is Eating Apple's Lunch   \n",
       "\n",
       "                                                   url  Word count  \\\n",
       "0    https://blog.signals.network/what-is-machine-l...        1888   \n",
       "1                                                  NaN        1742   \n",
       "2                                                  NaN         962   \n",
       "3                                                  NaN        1221   \n",
       "4                                                  NaN        2039   \n",
       "..                                                 ...         ...   \n",
       "156  [Log] 83: http://feedproxy.google.com/~r/Techc...        3239   \n",
       "157  [Log] 84: http://feedproxy.google.com/~r/Techc...        2566   \n",
       "158  [Log] 85: http://feedproxy.google.com/~r/Techc...        2089   \n",
       "159  [Log] 86: http://feedproxy.google.com/~r/Techc...        1530   \n",
       "160  [Log] 87: http://feedproxy.google.com/~r/Techc...         953   \n",
       "\n",
       "     # of Links  # of comments  # Images video  Elapsed days  # Shares  \n",
       "0             1            2.0               2            34    200000  \n",
       "1             9            NaN               9             5     25000  \n",
       "2             6            0.0               1            10     42000  \n",
       "3             3            NaN               2            68    200000  \n",
       "4             1          104.0               4           131    200000  \n",
       "..          ...            ...             ...           ...       ...  \n",
       "156           3           11.0               1            84      3239  \n",
       "157           3            8.0               4            85     25019  \n",
       "158           4            4.0               1            86     49614  \n",
       "159           4           12.0               3            87     33660  \n",
       "160           6           13.0               2            88      5956  \n",
       "\n",
       "[161 rows x 8 columns]"
      ]
     },
     "execution_count": 27,
     "metadata": {},
     "output_type": "execute_result"
    }
   ],
   "source": [
    "datos"
   ]
  },
  {
   "cell_type": "markdown",
   "id": "258bb33b",
   "metadata": {},
   "source": [
    "### Preguntas"
   ]
  },
  {
   "cell_type": "code",
   "execution_count": 28,
   "id": "dc6245be",
   "metadata": {},
   "outputs": [],
   "source": [
    "# Visualizar por medio de un gráfico de dispersión la Cantidad de Palabras vs Compartidos ('Word count' vs '# Shares')\n",
    "# 1. ¿Donde se concentran más los puntos?"
   ]
  },
  {
   "cell_type": "code",
   "execution_count": 29,
   "id": "bd5858a3",
   "metadata": {},
   "outputs": [
    {
     "data": {
      "text/plain": [
       "Index(['Title', 'url', 'Word count', '# of Links', '# of comments',\n",
       "       '# Images video', 'Elapsed days', '# Shares'],\n",
       "      dtype='object')"
      ]
     },
     "execution_count": 29,
     "metadata": {},
     "output_type": "execute_result"
    }
   ],
   "source": [
    "datos.columns"
   ]
  },
  {
   "cell_type": "code",
   "execution_count": 40,
   "id": "b4398e10",
   "metadata": {},
   "outputs": [
    {
     "data": {
      "text/plain": [
       "<AxesSubplot:xlabel='Word count', ylabel='# Shares'>"
      ]
     },
     "execution_count": 40,
     "metadata": {},
     "output_type": "execute_result"
    },
    {
     "data": {
      "image/png": "[encoded data removed]",
      "text/plain": [
       "<Figure size 432x288 with 1 Axes>"
      ]
     },
     "metadata": {
      "needs_background": "light"
     },
     "output_type": "display_data"
    }
   ],
   "source": [
    "sns.scatterplot(data=datos, x=\"Word count\", y=\"# Shares\")"
   ]
  },
  {
   "cell_type": "code",
   "execution_count": 32,
   "id": "7bb17446",
   "metadata": {},
   "outputs": [
    {
     "data": {
      "text/plain": [
       "<matplotlib.collections.PathCollection at 0x2911d9823a0>"
      ]
     },
     "execution_count": 32,
     "metadata": {},
     "output_type": "execute_result"
    },
    {
     "data": {
      "image/png": "[encoded data removed]",
      "text/plain": [
       "<Figure size 432x288 with 1 Axes>"
      ]
     },
     "metadata": {
      "needs_background": "light"
     },
     "output_type": "display_data"
    }
   ],
   "source": [
    "fig, ax = plt.subplots()\n",
    "ax.scatter(datos['Word count'], datos['# Shares'])"
   ]
  },
  {
   "cell_type": "markdown",
   "id": "51f8034c",
   "metadata": {},
   "source": [
    "### Respuestas"
   ]
  },
  {
   "cell_type": "code",
   "execution_count": null,
   "id": "6319b29a",
   "metadata": {},
   "outputs": [],
   "source": [
    "# 1. Se puede visualizar que el en el rango de x = [1000 y 2000] e y= [0 y 25000], se concentran más los puntos"
   ]
  },
  {
   "cell_type": "code",
   "execution_count": 7,
   "id": "c334a132",
   "metadata": {},
   "outputs": [],
   "source": [
    "# Vamos a RECORTAR los datos en la zona donde se concentran más los puntos\n",
    "# esto es en el eje X: entre 0 y 3.500\n",
    "# y en el eje Y: entre 0 y 80.000\n",
    "# si data es el nombre de la variable asignada al DataFrame\n",
    "# filtered_data = data[(data['Word count'] <= 3500) & (data['# Shares'] <= 80000)]"
   ]
  },
  {
   "cell_type": "code",
   "execution_count": 41,
   "id": "eb70d51e",
   "metadata": {},
   "outputs": [],
   "source": [
    "filtered_data = datos[(datos['Word count'] <= 3500) & (datos['# Shares'] <= 80000)]"
   ]
  },
  {
   "cell_type": "code",
   "execution_count": 8,
   "id": "2131d4ed",
   "metadata": {},
   "outputs": [],
   "source": [
    "# Analice los datos filtrados con describe\n",
    "# Seguidamente aplique regresión simple a filtered_data"
   ]
  },
  {
   "cell_type": "code",
   "execution_count": 42,
   "id": "a7fd4dca",
   "metadata": {},
   "outputs": [
    {
     "data": {
      "text/html": [
       "<div>\n",
       "<style scoped>\n",
       "    .dataframe tbody tr th:only-of-type {\n",
       "        vertical-align: middle;\n",
       "    }\n",
       "\n",
       "    .dataframe tbody tr th {\n",
       "        vertical-align: top;\n",
       "    }\n",
       "\n",
       "    .dataframe thead th {\n",
       "        text-align: right;\n",
       "    }\n",
       "</style>\n",
       "<table border=\"1\" class=\"dataframe\">\n",
       "  <thead>\n",
       "    <tr style=\"text-align: right;\">\n",
       "      <th></th>\n",
       "      <th>Word count</th>\n",
       "      <th># of Links</th>\n",
       "      <th># of comments</th>\n",
       "      <th># Images video</th>\n",
       "      <th>Elapsed days</th>\n",
       "      <th># Shares</th>\n",
       "    </tr>\n",
       "  </thead>\n",
       "  <tbody>\n",
       "    <tr>\n",
       "      <th>count</th>\n",
       "      <td>148.000000</td>\n",
       "      <td>148.000000</td>\n",
       "      <td>121.000000</td>\n",
       "      <td>148.000000</td>\n",
       "      <td>148.000000</td>\n",
       "      <td>148.000000</td>\n",
       "    </tr>\n",
       "    <tr>\n",
       "      <th>mean</th>\n",
       "      <td>1640.209459</td>\n",
       "      <td>5.743243</td>\n",
       "      <td>7.256198</td>\n",
       "      <td>3.331081</td>\n",
       "      <td>91.554054</td>\n",
       "      <td>20545.648649</td>\n",
       "    </tr>\n",
       "    <tr>\n",
       "      <th>std</th>\n",
       "      <td>821.975365</td>\n",
       "      <td>6.064418</td>\n",
       "      <td>6.346297</td>\n",
       "      <td>2.706476</td>\n",
       "      <td>91.143923</td>\n",
       "      <td>19933.865031</td>\n",
       "    </tr>\n",
       "    <tr>\n",
       "      <th>min</th>\n",
       "      <td>250.000000</td>\n",
       "      <td>0.000000</td>\n",
       "      <td>0.000000</td>\n",
       "      <td>1.000000</td>\n",
       "      <td>1.000000</td>\n",
       "      <td>0.000000</td>\n",
       "    </tr>\n",
       "    <tr>\n",
       "      <th>25%</th>\n",
       "      <td>971.000000</td>\n",
       "      <td>3.000000</td>\n",
       "      <td>2.000000</td>\n",
       "      <td>1.000000</td>\n",
       "      <td>28.750000</td>\n",
       "      <td>2750.000000</td>\n",
       "    </tr>\n",
       "    <tr>\n",
       "      <th>50%</th>\n",
       "      <td>1536.000000</td>\n",
       "      <td>5.000000</td>\n",
       "      <td>6.000000</td>\n",
       "      <td>3.000000</td>\n",
       "      <td>60.000000</td>\n",
       "      <td>15836.000000</td>\n",
       "    </tr>\n",
       "    <tr>\n",
       "      <th>75%</th>\n",
       "      <td>2335.750000</td>\n",
       "      <td>7.000000</td>\n",
       "      <td>11.000000</td>\n",
       "      <td>4.000000</td>\n",
       "      <td>110.500000</td>\n",
       "      <td>34177.500000</td>\n",
       "    </tr>\n",
       "    <tr>\n",
       "      <th>max</th>\n",
       "      <td>3485.000000</td>\n",
       "      <td>49.000000</td>\n",
       "      <td>30.000000</td>\n",
       "      <td>22.000000</td>\n",
       "      <td>349.000000</td>\n",
       "      <td>77000.000000</td>\n",
       "    </tr>\n",
       "  </tbody>\n",
       "</table>\n",
       "</div>"
      ],
      "text/plain": [
       "        Word count  # of Links  # of comments  # Images video  Elapsed days  \\\n",
       "count   148.000000  148.000000     121.000000      148.000000    148.000000   \n",
       "mean   1640.209459    5.743243       7.256198        3.331081     91.554054   \n",
       "std     821.975365    6.064418       6.346297        2.706476     91.143923   \n",
       "min     250.000000    0.000000       0.000000        1.000000      1.000000   \n",
       "25%     971.000000    3.000000       2.000000        1.000000     28.750000   \n",
       "50%    1536.000000    5.000000       6.000000        3.000000     60.000000   \n",
       "75%    2335.750000    7.000000      11.000000        4.000000    110.500000   \n",
       "max    3485.000000   49.000000      30.000000       22.000000    349.000000   \n",
       "\n",
       "           # Shares  \n",
       "count    148.000000  \n",
       "mean   20545.648649  \n",
       "std    19933.865031  \n",
       "min        0.000000  \n",
       "25%     2750.000000  \n",
       "50%    15836.000000  \n",
       "75%    34177.500000  \n",
       "max    77000.000000  "
      ]
     },
     "execution_count": 42,
     "metadata": {},
     "output_type": "execute_result"
    }
   ],
   "source": [
    "filtered_data.describe()"
   ]
  },
  {
   "cell_type": "markdown",
   "id": "746c9f62",
   "metadata": {},
   "source": [
    "## Predicción de cantidad de mensajes compartidos ('# Shares')"
   ]
  },
  {
   "cell_type": "code",
   "execution_count": 9,
   "id": "dca471a6",
   "metadata": {},
   "outputs": [],
   "source": [
    "# importar librerías"
   ]
  },
  {
   "cell_type": "code",
   "execution_count": 10,
   "id": "cdbc7a07",
   "metadata": {},
   "outputs": [],
   "source": [
    "# calcular regresión "
   ]
  },
  {
   "cell_type": "code",
   "execution_count": 11,
   "id": "ff7e19bd",
   "metadata": {},
   "outputs": [],
   "source": [
    "# evaluar el modelo"
   ]
  },
  {
   "cell_type": "code",
   "execution_count": null,
   "id": "c7c23fcf",
   "metadata": {},
   "outputs": [],
   "source": [
    "# interpretar los resultados"
   ]
  },
  {
   "cell_type": "markdown",
   "id": "5d854142",
   "metadata": {},
   "source": [
    "## Aplique Regresión lineal múltiple\n",
    "\n",
    "Cree un nuevo DataFrame y agregue la variable 'Word count' y una nueva variable que será la suma de los enlaces, comentarios e imágenes"
   ]
  },
  {
   "cell_type": "code",
   "execution_count": 12,
   "id": "97922570",
   "metadata": {},
   "outputs": [],
   "source": [
    "# suma = (filtered_data[\"# of Links\"] + filtered_data['# of comments'].fillna(0) + filtered_data['# Images video'])\n",
    "# crear un nuevo DataFrame conteniendo \"Word count\" y \"suma\""
   ]
  },
  {
   "cell_type": "code",
   "execution_count": 13,
   "id": "5ea73475",
   "metadata": {},
   "outputs": [],
   "source": [
    "# Aplicar Regresión Lineal"
   ]
  },
  {
   "cell_type": "code",
   "execution_count": null,
   "id": "528bd101",
   "metadata": {},
   "outputs": [],
   "source": [
    "# Interpretar los resultados"
   ]
  }
 ],
 "metadata": {
  "kernelspec": {
   "display_name": "Python 3 (ipykernel)",
   "language": "python",
   "name": "python3"
  },
  "language_info": {
   "codemirror_mode": {
    "name": "ipython",
    "version": 3
   },
   "file_extension": ".py",
   "mimetype": "text/x-python",
   "name": "python",
   "nbconvert_exporter": "python",
   "pygments_lexer": "ipython3",
   "version": "3.9.12"
  }
 },
 "nbformat": 4,
 "nbformat_minor": 5
}
