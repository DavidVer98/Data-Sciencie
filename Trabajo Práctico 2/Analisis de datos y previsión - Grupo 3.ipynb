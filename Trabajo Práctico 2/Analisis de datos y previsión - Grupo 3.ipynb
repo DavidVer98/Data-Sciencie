{
 "cells": [
  {
   "cell_type": "markdown",
   "id": "111739c8",
   "metadata": {},
   "source": [
    "# Análisis Exploratorio de Datos y Previsión \n",
    "\n",
    "Esta tarea requiere analizar datos compartidos en Redes Sociales.  \n",
    "\n",
    "Debe realizar dos tareas principales:\n",
    "\n",
    "- el análisis exploratorio de datos utilizando los conjuntos de datos proporcionados.\n",
    "- predecir cuántas veces será compartido en Redes Sociales un artículo de Machine Learning segun algunas de sus características"
   ]
  },
  {
   "cell_type": "code",
   "execution_count": 1,
   "id": "694c07a9",
   "metadata": {},
   "outputs": [],
   "source": [
    "# importar librerías\n",
    "import pandas as pd\n",
    "import matplotlib.pyplot as plt\n",
    "import seaborn as sns\n",
    "import numpy as np\n"
   ]
  },
  {
   "cell_type": "code",
   "execution_count": 2,
   "id": "982180c0",
   "metadata": {
    "scrolled": true
   },
   "outputs": [],
   "source": [
    "# cargar del conjunto de datos\n",
    "pd.read_csv('articulos_ml-1.csv', sep=',')\n",
    "datos = pd.read_csv('articulos_ml-1.csv', sep=',')\n"
   ]
  },
  {
   "cell_type": "code",
   "execution_count": 3,
   "id": "bbefc7ae",
   "metadata": {},
   "outputs": [
    {
     "name": "stdout",
     "output_type": "stream",
     "text": [
      "<class 'pandas.core.frame.DataFrame'>\n",
      "RangeIndex: 161 entries, 0 to 160\n",
      "Data columns (total 8 columns):\n",
      " #   Column          Non-Null Count  Dtype  \n",
      "---  ------          --------------  -----  \n",
      " 0   Title           161 non-null    object \n",
      " 1   url             122 non-null    object \n",
      " 2   Word count      161 non-null    int64  \n",
      " 3   # of Links      161 non-null    int64  \n",
      " 4   # of comments   129 non-null    float64\n",
      " 5   # Images video  161 non-null    int64  \n",
      " 6   Elapsed days    161 non-null    int64  \n",
      " 7   # Shares        161 non-null    int64  \n",
      "dtypes: float64(1), int64(5), object(2)\n",
      "memory usage: 10.2+ KB\n"
     ]
    }
   ],
   "source": [
    "# con data.info() verifico el numero total de elementos que tiene not-null\n",
    "datos.info()"
   ]
  },
  {
   "cell_type": "markdown",
   "id": "ed7df91e",
   "metadata": {},
   "source": [
    "### Preguntas"
   ]
  },
  {
   "cell_type": "code",
   "execution_count": 4,
   "id": "a91b5606",
   "metadata": {},
   "outputs": [],
   "source": [
    "# visualizar los datos para conocer la información básica y responda las siguientes preguntas:\n",
    "# 1. de que tratan los datos?, describa la característica de sus columas\n",
    "# 2. que tipos de datos tiene? \n",
    "# 3. existen datos faltantes?\n",
    "# 4. cual es su dimensión?"
   ]
  },
  {
   "cell_type": "markdown",
   "id": "c3de87de",
   "metadata": {},
   "source": [
    "### Respuestas"
   ]
  },
  {
   "cell_type": "code",
   "execution_count": 5,
   "id": "2c73467a",
   "metadata": {},
   "outputs": [],
   "source": [
    "# 1. Los datos son sobre información recolectada de urls relacionados al \n",
    "# mundo de TI, por ejemplo Artificial Intelligence, Machine Learning, Google's Cloud entre otros\n",
    "\n",
    "# 2. Hay información referente al título, recuento de palabras, N.º de enlaces, N.º de comentarios, N.º de imágenes \n",
    "# Vídeos, Días transcurridos N.º y compartido.\n",
    "\n",
    "# 3. Si existe faltantes en varias de las columnas, tales como el  url y nro de comentarios, \n",
    "# se puede verificar con datos.info()\n",
    "\n",
    "# 4. El dataset tiene la dimension de 161 rows × 8 columns\n"
   ]
  },
  {
   "cell_type": "code",
   "execution_count": 6,
   "id": "7a1141e5",
   "metadata": {},
   "outputs": [],
   "source": [
    "# Realizar un resumen estadístico e interpretar la información"
   ]
  },
  {
   "cell_type": "code",
   "execution_count": 7,
   "id": "5013b446",
   "metadata": {},
   "outputs": [
    {
     "data": {
      "text/html": [
       "<div>\n",
       "<style scoped>\n",
       "    .dataframe tbody tr th:only-of-type {\n",
       "        vertical-align: middle;\n",
       "    }\n",
       "\n",
       "    .dataframe tbody tr th {\n",
       "        vertical-align: top;\n",
       "    }\n",
       "\n",
       "    .dataframe thead th {\n",
       "        text-align: right;\n",
       "    }\n",
       "</style>\n",
       "<table border=\"1\" class=\"dataframe\">\n",
       "  <thead>\n",
       "    <tr style=\"text-align: right;\">\n",
       "      <th></th>\n",
       "      <th>Word count</th>\n",
       "      <th># of Links</th>\n",
       "      <th># of comments</th>\n",
       "      <th># Images video</th>\n",
       "      <th>Elapsed days</th>\n",
       "      <th># Shares</th>\n",
       "    </tr>\n",
       "  </thead>\n",
       "  <tbody>\n",
       "    <tr>\n",
       "      <th>count</th>\n",
       "      <td>161.000000</td>\n",
       "      <td>161.000000</td>\n",
       "      <td>129.000000</td>\n",
       "      <td>161.000000</td>\n",
       "      <td>161.000000</td>\n",
       "      <td>161.000000</td>\n",
       "    </tr>\n",
       "    <tr>\n",
       "      <th>mean</th>\n",
       "      <td>1808.260870</td>\n",
       "      <td>9.739130</td>\n",
       "      <td>8.782946</td>\n",
       "      <td>3.670807</td>\n",
       "      <td>98.124224</td>\n",
       "      <td>27948.347826</td>\n",
       "    </tr>\n",
       "    <tr>\n",
       "      <th>std</th>\n",
       "      <td>1141.919385</td>\n",
       "      <td>47.271625</td>\n",
       "      <td>13.142822</td>\n",
       "      <td>3.418290</td>\n",
       "      <td>114.337535</td>\n",
       "      <td>43408.006839</td>\n",
       "    </tr>\n",
       "    <tr>\n",
       "      <th>min</th>\n",
       "      <td>250.000000</td>\n",
       "      <td>0.000000</td>\n",
       "      <td>0.000000</td>\n",
       "      <td>1.000000</td>\n",
       "      <td>1.000000</td>\n",
       "      <td>0.000000</td>\n",
       "    </tr>\n",
       "    <tr>\n",
       "      <th>25%</th>\n",
       "      <td>990.000000</td>\n",
       "      <td>3.000000</td>\n",
       "      <td>2.000000</td>\n",
       "      <td>1.000000</td>\n",
       "      <td>31.000000</td>\n",
       "      <td>2800.000000</td>\n",
       "    </tr>\n",
       "    <tr>\n",
       "      <th>50%</th>\n",
       "      <td>1674.000000</td>\n",
       "      <td>5.000000</td>\n",
       "      <td>6.000000</td>\n",
       "      <td>3.000000</td>\n",
       "      <td>62.000000</td>\n",
       "      <td>16458.000000</td>\n",
       "    </tr>\n",
       "    <tr>\n",
       "      <th>75%</th>\n",
       "      <td>2369.000000</td>\n",
       "      <td>7.000000</td>\n",
       "      <td>12.000000</td>\n",
       "      <td>5.000000</td>\n",
       "      <td>124.000000</td>\n",
       "      <td>35691.000000</td>\n",
       "    </tr>\n",
       "    <tr>\n",
       "      <th>max</th>\n",
       "      <td>8401.000000</td>\n",
       "      <td>600.000000</td>\n",
       "      <td>104.000000</td>\n",
       "      <td>22.000000</td>\n",
       "      <td>1002.000000</td>\n",
       "      <td>350000.000000</td>\n",
       "    </tr>\n",
       "  </tbody>\n",
       "</table>\n",
       "</div>"
      ],
      "text/plain": [
       "        Word count  # of Links  # of comments  # Images video  Elapsed days  \\\n",
       "count   161.000000  161.000000     129.000000      161.000000    161.000000   \n",
       "mean   1808.260870    9.739130       8.782946        3.670807     98.124224   \n",
       "std    1141.919385   47.271625      13.142822        3.418290    114.337535   \n",
       "min     250.000000    0.000000       0.000000        1.000000      1.000000   \n",
       "25%     990.000000    3.000000       2.000000        1.000000     31.000000   \n",
       "50%    1674.000000    5.000000       6.000000        3.000000     62.000000   \n",
       "75%    2369.000000    7.000000      12.000000        5.000000    124.000000   \n",
       "max    8401.000000  600.000000     104.000000       22.000000   1002.000000   \n",
       "\n",
       "            # Shares  \n",
       "count     161.000000  \n",
       "mean    27948.347826  \n",
       "std     43408.006839  \n",
       "min         0.000000  \n",
       "25%      2800.000000  \n",
       "50%     16458.000000  \n",
       "75%     35691.000000  \n",
       "max    350000.000000  "
      ]
     },
     "execution_count": 7,
     "metadata": {},
     "output_type": "execute_result"
    }
   ],
   "source": [
    "datos.describe()"
   ]
  },
  {
   "cell_type": "code",
   "execution_count": 8,
   "id": "dca563f5",
   "metadata": {},
   "outputs": [],
   "source": [
    "# Realizar una visualización general de los datos"
   ]
  },
  {
   "cell_type": "code",
   "execution_count": 9,
   "id": "b18be73a",
   "metadata": {
    "scrolled": true
   },
   "outputs": [
    {
     "data": {
      "text/html": [
       "<div>\n",
       "<style scoped>\n",
       "    .dataframe tbody tr th:only-of-type {\n",
       "        vertical-align: middle;\n",
       "    }\n",
       "\n",
       "    .dataframe tbody tr th {\n",
       "        vertical-align: top;\n",
       "    }\n",
       "\n",
       "    .dataframe thead th {\n",
       "        text-align: right;\n",
       "    }\n",
       "</style>\n",
       "<table border=\"1\" class=\"dataframe\">\n",
       "  <thead>\n",
       "    <tr style=\"text-align: right;\">\n",
       "      <th></th>\n",
       "      <th>Title</th>\n",
       "      <th>url</th>\n",
       "      <th>Word count</th>\n",
       "      <th># of Links</th>\n",
       "      <th># of comments</th>\n",
       "      <th># Images video</th>\n",
       "      <th>Elapsed days</th>\n",
       "      <th># Shares</th>\n",
       "    </tr>\n",
       "  </thead>\n",
       "  <tbody>\n",
       "    <tr>\n",
       "      <th>0</th>\n",
       "      <td>What is Machine Learning and how do we use it ...</td>\n",
       "      <td>https://blog.signals.network/what-is-machine-l...</td>\n",
       "      <td>1888</td>\n",
       "      <td>1</td>\n",
       "      <td>2.0</td>\n",
       "      <td>2</td>\n",
       "      <td>34</td>\n",
       "      <td>200000</td>\n",
       "    </tr>\n",
       "    <tr>\n",
       "      <th>1</th>\n",
       "      <td>10 Companies Using Machine Learning in Cool Ways</td>\n",
       "      <td>NaN</td>\n",
       "      <td>1742</td>\n",
       "      <td>9</td>\n",
       "      <td>NaN</td>\n",
       "      <td>9</td>\n",
       "      <td>5</td>\n",
       "      <td>25000</td>\n",
       "    </tr>\n",
       "    <tr>\n",
       "      <th>2</th>\n",
       "      <td>How Artificial Intelligence Is Revolutionizing...</td>\n",
       "      <td>NaN</td>\n",
       "      <td>962</td>\n",
       "      <td>6</td>\n",
       "      <td>0.0</td>\n",
       "      <td>1</td>\n",
       "      <td>10</td>\n",
       "      <td>42000</td>\n",
       "    </tr>\n",
       "    <tr>\n",
       "      <th>3</th>\n",
       "      <td>Dbrain and the Blockchain of Artificial Intell...</td>\n",
       "      <td>NaN</td>\n",
       "      <td>1221</td>\n",
       "      <td>3</td>\n",
       "      <td>NaN</td>\n",
       "      <td>2</td>\n",
       "      <td>68</td>\n",
       "      <td>200000</td>\n",
       "    </tr>\n",
       "    <tr>\n",
       "      <th>4</th>\n",
       "      <td>Nasa finds entire solar system filled with eig...</td>\n",
       "      <td>NaN</td>\n",
       "      <td>2039</td>\n",
       "      <td>1</td>\n",
       "      <td>104.0</td>\n",
       "      <td>4</td>\n",
       "      <td>131</td>\n",
       "      <td>200000</td>\n",
       "    </tr>\n",
       "    <tr>\n",
       "      <th>...</th>\n",
       "      <td>...</td>\n",
       "      <td>...</td>\n",
       "      <td>...</td>\n",
       "      <td>...</td>\n",
       "      <td>...</td>\n",
       "      <td>...</td>\n",
       "      <td>...</td>\n",
       "      <td>...</td>\n",
       "    </tr>\n",
       "    <tr>\n",
       "      <th>156</th>\n",
       "      <td>[Log] 83: How Google Uses Machine Learning And...</td>\n",
       "      <td>[Log] 83: http://feedproxy.google.com/~r/Techc...</td>\n",
       "      <td>3239</td>\n",
       "      <td>3</td>\n",
       "      <td>11.0</td>\n",
       "      <td>1</td>\n",
       "      <td>84</td>\n",
       "      <td>3239</td>\n",
       "    </tr>\n",
       "    <tr>\n",
       "      <th>157</th>\n",
       "      <td>[Log] 84: Zuck Knows If You've Been Bad Or Goo...</td>\n",
       "      <td>[Log] 84: http://feedproxy.google.com/~r/Techc...</td>\n",
       "      <td>2566</td>\n",
       "      <td>3</td>\n",
       "      <td>8.0</td>\n",
       "      <td>4</td>\n",
       "      <td>85</td>\n",
       "      <td>25019</td>\n",
       "    </tr>\n",
       "    <tr>\n",
       "      <th>158</th>\n",
       "      <td>[Log] 85: Microsoft Improves Windows Phone Voi...</td>\n",
       "      <td>[Log] 85: http://feedproxy.google.com/~r/Techc...</td>\n",
       "      <td>2089</td>\n",
       "      <td>4</td>\n",
       "      <td>4.0</td>\n",
       "      <td>1</td>\n",
       "      <td>86</td>\n",
       "      <td>49614</td>\n",
       "    </tr>\n",
       "    <tr>\n",
       "      <th>159</th>\n",
       "      <td>[Log] 86: How Google's Acquisition Of DNNresea...</td>\n",
       "      <td>[Log] 86: http://feedproxy.google.com/~r/Techc...</td>\n",
       "      <td>1530</td>\n",
       "      <td>4</td>\n",
       "      <td>12.0</td>\n",
       "      <td>3</td>\n",
       "      <td>87</td>\n",
       "      <td>33660</td>\n",
       "    </tr>\n",
       "    <tr>\n",
       "      <th>160</th>\n",
       "      <td>[Log] 87: Google's Cloud Is Eating Apple's Lunch</td>\n",
       "      <td>[Log] 87: http://feedproxy.google.com/~r/Techc...</td>\n",
       "      <td>953</td>\n",
       "      <td>6</td>\n",
       "      <td>13.0</td>\n",
       "      <td>2</td>\n",
       "      <td>88</td>\n",
       "      <td>5956</td>\n",
       "    </tr>\n",
       "  </tbody>\n",
       "</table>\n",
       "<p>161 rows × 8 columns</p>\n",
       "</div>"
      ],
      "text/plain": [
       "                                                 Title  \\\n",
       "0    What is Machine Learning and how do we use it ...   \n",
       "1     10 Companies Using Machine Learning in Cool Ways   \n",
       "2    How Artificial Intelligence Is Revolutionizing...   \n",
       "3    Dbrain and the Blockchain of Artificial Intell...   \n",
       "4    Nasa finds entire solar system filled with eig...   \n",
       "..                                                 ...   \n",
       "156  [Log] 83: How Google Uses Machine Learning And...   \n",
       "157  [Log] 84: Zuck Knows If You've Been Bad Or Goo...   \n",
       "158  [Log] 85: Microsoft Improves Windows Phone Voi...   \n",
       "159  [Log] 86: How Google's Acquisition Of DNNresea...   \n",
       "160   [Log] 87: Google's Cloud Is Eating Apple's Lunch   \n",
       "\n",
       "                                                   url  Word count  \\\n",
       "0    https://blog.signals.network/what-is-machine-l...        1888   \n",
       "1                                                  NaN        1742   \n",
       "2                                                  NaN         962   \n",
       "3                                                  NaN        1221   \n",
       "4                                                  NaN        2039   \n",
       "..                                                 ...         ...   \n",
       "156  [Log] 83: http://feedproxy.google.com/~r/Techc...        3239   \n",
       "157  [Log] 84: http://feedproxy.google.com/~r/Techc...        2566   \n",
       "158  [Log] 85: http://feedproxy.google.com/~r/Techc...        2089   \n",
       "159  [Log] 86: http://feedproxy.google.com/~r/Techc...        1530   \n",
       "160  [Log] 87: http://feedproxy.google.com/~r/Techc...         953   \n",
       "\n",
       "     # of Links  # of comments  # Images video  Elapsed days  # Shares  \n",
       "0             1            2.0               2            34    200000  \n",
       "1             9            NaN               9             5     25000  \n",
       "2             6            0.0               1            10     42000  \n",
       "3             3            NaN               2            68    200000  \n",
       "4             1          104.0               4           131    200000  \n",
       "..          ...            ...             ...           ...       ...  \n",
       "156           3           11.0               1            84      3239  \n",
       "157           3            8.0               4            85     25019  \n",
       "158           4            4.0               1            86     49614  \n",
       "159           4           12.0               3            87     33660  \n",
       "160           6           13.0               2            88      5956  \n",
       "\n",
       "[161 rows x 8 columns]"
      ]
     },
     "execution_count": 9,
     "metadata": {},
     "output_type": "execute_result"
    }
   ],
   "source": [
    "datos"
   ]
  },
  {
   "cell_type": "markdown",
   "id": "258bb33b",
   "metadata": {},
   "source": [
    "### Preguntas"
   ]
  },
  {
   "cell_type": "code",
   "execution_count": 10,
   "id": "dc6245be",
   "metadata": {},
   "outputs": [],
   "source": [
    "# Visualizar por medio de un gráfico de dispersión la Cantidad de Palabras vs Compartidos ('Word count' vs '# Shares')\n",
    "# 1. ¿Donde se concentran más los puntos?"
   ]
  },
  {
   "cell_type": "code",
   "execution_count": 11,
   "id": "bd5858a3",
   "metadata": {},
   "outputs": [
    {
     "data": {
      "text/plain": [
       "Index(['Title', 'url', 'Word count', '# of Links', '# of comments',\n",
       "       '# Images video', 'Elapsed days', '# Shares'],\n",
       "      dtype='object')"
      ]
     },
     "execution_count": 11,
     "metadata": {},
     "output_type": "execute_result"
    }
   ],
   "source": [
    "datos.columns"
   ]
  },
  {
   "cell_type": "code",
   "execution_count": 12,
   "id": "b4398e10",
   "metadata": {},
   "outputs": [
    {
     "data": {
      "text/plain": [
       "<AxesSubplot:xlabel='Word count', ylabel='# Shares'>"
      ]
     },
     "execution_count": 12,
     "metadata": {},
     "output_type": "execute_result"
    },
    {
     "data": {
      "image/png": "[encoded data removed]",
      "text/plain": [
       "<Figure size 432x288 with 1 Axes>"
      ]
     },
     "metadata": {
      "needs_background": "light"
     },
     "output_type": "display_data"
    }
   ],
   "source": [
    "sns.scatterplot(data=datos, x=\"Word count\", y=\"# Shares\")"
   ]
  },
  {
   "cell_type": "markdown",
   "id": "51f8034c",
   "metadata": {},
   "source": [
    "### Respuestas"
   ]
  },
  {
   "cell_type": "code",
   "execution_count": 13,
   "id": "6319b29a",
   "metadata": {},
   "outputs": [],
   "source": [
    "# 1. Se puede visualizar que el en el rango de x = [1000 y 2000] e y= [0 y 25000], se concentran más los puntos"
   ]
  },
  {
   "cell_type": "code",
   "execution_count": 14,
   "id": "c334a132",
   "metadata": {},
   "outputs": [],
   "source": [
    "# Vamos a RECORTAR los datos en la zona donde se concentran más los puntos\n",
    "# esto es en el eje X: entre 0 y 3.500\n",
    "# y en el eje Y: entre 0 y 80.000\n",
    "# si data es el nombre de la variable asignada al DataFrame\n",
    "# filtered_data = data[(data['Word count'] <= 3500) & (data['# Shares'] <= 80000)]"
   ]
  },
  {
   "cell_type": "code",
   "execution_count": 15,
   "id": "eb70d51e",
   "metadata": {},
   "outputs": [],
   "source": [
    "filtered_data = datos[(datos['Word count'] <= 3500) & (datos['# Shares'] <= 80000)]"
   ]
  },
  {
   "cell_type": "code",
   "execution_count": 16,
   "id": "2131d4ed",
   "metadata": {},
   "outputs": [],
   "source": [
    "# Analice los datos filtrados con describe\n",
    "# Seguidamente aplique regresión simple a filtered_data"
   ]
  },
  {
   "cell_type": "code",
   "execution_count": 17,
   "id": "a7fd4dca",
   "metadata": {
    "scrolled": true
   },
   "outputs": [
    {
     "data": {
      "text/html": [
       "<div>\n",
       "<style scoped>\n",
       "    .dataframe tbody tr th:only-of-type {\n",
       "        vertical-align: middle;\n",
       "    }\n",
       "\n",
       "    .dataframe tbody tr th {\n",
       "        vertical-align: top;\n",
       "    }\n",
       "\n",
       "    .dataframe thead th {\n",
       "        text-align: right;\n",
       "    }\n",
       "</style>\n",
       "<table border=\"1\" class=\"dataframe\">\n",
       "  <thead>\n",
       "    <tr style=\"text-align: right;\">\n",
       "      <th></th>\n",
       "      <th>Word count</th>\n",
       "      <th># of Links</th>\n",
       "      <th># of comments</th>\n",
       "      <th># Images video</th>\n",
       "      <th>Elapsed days</th>\n",
       "      <th># Shares</th>\n",
       "    </tr>\n",
       "  </thead>\n",
       "  <tbody>\n",
       "    <tr>\n",
       "      <th>count</th>\n",
       "      <td>148.000000</td>\n",
       "      <td>148.000000</td>\n",
       "      <td>121.000000</td>\n",
       "      <td>148.000000</td>\n",
       "      <td>148.000000</td>\n",
       "      <td>148.000000</td>\n",
       "    </tr>\n",
       "    <tr>\n",
       "      <th>mean</th>\n",
       "      <td>1640.209459</td>\n",
       "      <td>5.743243</td>\n",
       "      <td>7.256198</td>\n",
       "      <td>3.331081</td>\n",
       "      <td>91.554054</td>\n",
       "      <td>20545.648649</td>\n",
       "    </tr>\n",
       "    <tr>\n",
       "      <th>std</th>\n",
       "      <td>821.975365</td>\n",
       "      <td>6.064418</td>\n",
       "      <td>6.346297</td>\n",
       "      <td>2.706476</td>\n",
       "      <td>91.143923</td>\n",
       "      <td>19933.865031</td>\n",
       "    </tr>\n",
       "    <tr>\n",
       "      <th>min</th>\n",
       "      <td>250.000000</td>\n",
       "      <td>0.000000</td>\n",
       "      <td>0.000000</td>\n",
       "      <td>1.000000</td>\n",
       "      <td>1.000000</td>\n",
       "      <td>0.000000</td>\n",
       "    </tr>\n",
       "    <tr>\n",
       "      <th>25%</th>\n",
       "      <td>971.000000</td>\n",
       "      <td>3.000000</td>\n",
       "      <td>2.000000</td>\n",
       "      <td>1.000000</td>\n",
       "      <td>28.750000</td>\n",
       "      <td>2750.000000</td>\n",
       "    </tr>\n",
       "    <tr>\n",
       "      <th>50%</th>\n",
       "      <td>1536.000000</td>\n",
       "      <td>5.000000</td>\n",
       "      <td>6.000000</td>\n",
       "      <td>3.000000</td>\n",
       "      <td>60.000000</td>\n",
       "      <td>15836.000000</td>\n",
       "    </tr>\n",
       "    <tr>\n",
       "      <th>75%</th>\n",
       "      <td>2335.750000</td>\n",
       "      <td>7.000000</td>\n",
       "      <td>11.000000</td>\n",
       "      <td>4.000000</td>\n",
       "      <td>110.500000</td>\n",
       "      <td>34177.500000</td>\n",
       "    </tr>\n",
       "    <tr>\n",
       "      <th>max</th>\n",
       "      <td>3485.000000</td>\n",
       "      <td>49.000000</td>\n",
       "      <td>30.000000</td>\n",
       "      <td>22.000000</td>\n",
       "      <td>349.000000</td>\n",
       "      <td>77000.000000</td>\n",
       "    </tr>\n",
       "  </tbody>\n",
       "</table>\n",
       "</div>"
      ],
      "text/plain": [
       "        Word count  # of Links  # of comments  # Images video  Elapsed days  \\\n",
       "count   148.000000  148.000000     121.000000      148.000000    148.000000   \n",
       "mean   1640.209459    5.743243       7.256198        3.331081     91.554054   \n",
       "std     821.975365    6.064418       6.346297        2.706476     91.143923   \n",
       "min     250.000000    0.000000       0.000000        1.000000      1.000000   \n",
       "25%     971.000000    3.000000       2.000000        1.000000     28.750000   \n",
       "50%    1536.000000    5.000000       6.000000        3.000000     60.000000   \n",
       "75%    2335.750000    7.000000      11.000000        4.000000    110.500000   \n",
       "max    3485.000000   49.000000      30.000000       22.000000    349.000000   \n",
       "\n",
       "           # Shares  \n",
       "count    148.000000  \n",
       "mean   20545.648649  \n",
       "std    19933.865031  \n",
       "min        0.000000  \n",
       "25%     2750.000000  \n",
       "50%    15836.000000  \n",
       "75%    34177.500000  \n",
       "max    77000.000000  "
      ]
     },
     "execution_count": 17,
     "metadata": {},
     "output_type": "execute_result"
    }
   ],
   "source": [
    "filtered_data.describe()"
   ]
  },
  {
   "cell_type": "code",
   "execution_count": 18,
   "id": "503b9a37",
   "metadata": {},
   "outputs": [
    {
     "data": {
      "text/html": [
       "<div>\n",
       "<style scoped>\n",
       "    .dataframe tbody tr th:only-of-type {\n",
       "        vertical-align: middle;\n",
       "    }\n",
       "\n",
       "    .dataframe tbody tr th {\n",
       "        vertical-align: top;\n",
       "    }\n",
       "\n",
       "    .dataframe thead th {\n",
       "        text-align: right;\n",
       "    }\n",
       "</style>\n",
       "<table border=\"1\" class=\"dataframe\">\n",
       "  <thead>\n",
       "    <tr style=\"text-align: right;\">\n",
       "      <th></th>\n",
       "      <th>Title</th>\n",
       "      <th>url</th>\n",
       "      <th>Word count</th>\n",
       "      <th># of Links</th>\n",
       "      <th># of comments</th>\n",
       "      <th># Images video</th>\n",
       "      <th>Elapsed days</th>\n",
       "      <th># Shares</th>\n",
       "    </tr>\n",
       "  </thead>\n",
       "  <tbody>\n",
       "    <tr>\n",
       "      <th>1</th>\n",
       "      <td>10 Companies Using Machine Learning in Cool Ways</td>\n",
       "      <td>NaN</td>\n",
       "      <td>1742</td>\n",
       "      <td>9</td>\n",
       "      <td>NaN</td>\n",
       "      <td>9</td>\n",
       "      <td>5</td>\n",
       "      <td>25000</td>\n",
       "    </tr>\n",
       "    <tr>\n",
       "      <th>2</th>\n",
       "      <td>How Artificial Intelligence Is Revolutionizing...</td>\n",
       "      <td>NaN</td>\n",
       "      <td>962</td>\n",
       "      <td>6</td>\n",
       "      <td>0.0</td>\n",
       "      <td>1</td>\n",
       "      <td>10</td>\n",
       "      <td>42000</td>\n",
       "    </tr>\n",
       "    <tr>\n",
       "      <th>5</th>\n",
       "      <td>5 ways Data Science and Machine Learning impac...</td>\n",
       "      <td>NaN</td>\n",
       "      <td>761</td>\n",
       "      <td>0</td>\n",
       "      <td>NaN</td>\n",
       "      <td>1</td>\n",
       "      <td>14</td>\n",
       "      <td>21000</td>\n",
       "    </tr>\n",
       "    <tr>\n",
       "      <th>7</th>\n",
       "      <td>How Machine Learning can help Cryptocurrency T...</td>\n",
       "      <td>https://cryptovest.com/news/how-machine-learni...</td>\n",
       "      <td>753</td>\n",
       "      <td>3</td>\n",
       "      <td>0.0</td>\n",
       "      <td>1</td>\n",
       "      <td>78</td>\n",
       "      <td>77000</td>\n",
       "    </tr>\n",
       "    <tr>\n",
       "      <th>8</th>\n",
       "      <td>Tech companies should stop pretending AI won’t...</td>\n",
       "      <td>https://www.technologyreview.com/s/610298/tech...</td>\n",
       "      <td>1118</td>\n",
       "      <td>2</td>\n",
       "      <td>NaN</td>\n",
       "      <td>1</td>\n",
       "      <td>62</td>\n",
       "      <td>59400</td>\n",
       "    </tr>\n",
       "    <tr>\n",
       "      <th>...</th>\n",
       "      <td>...</td>\n",
       "      <td>...</td>\n",
       "      <td>...</td>\n",
       "      <td>...</td>\n",
       "      <td>...</td>\n",
       "      <td>...</td>\n",
       "      <td>...</td>\n",
       "      <td>...</td>\n",
       "    </tr>\n",
       "    <tr>\n",
       "      <th>156</th>\n",
       "      <td>[Log] 83: How Google Uses Machine Learning And...</td>\n",
       "      <td>[Log] 83: http://feedproxy.google.com/~r/Techc...</td>\n",
       "      <td>3239</td>\n",
       "      <td>3</td>\n",
       "      <td>11.0</td>\n",
       "      <td>1</td>\n",
       "      <td>84</td>\n",
       "      <td>3239</td>\n",
       "    </tr>\n",
       "    <tr>\n",
       "      <th>157</th>\n",
       "      <td>[Log] 84: Zuck Knows If You've Been Bad Or Goo...</td>\n",
       "      <td>[Log] 84: http://feedproxy.google.com/~r/Techc...</td>\n",
       "      <td>2566</td>\n",
       "      <td>3</td>\n",
       "      <td>8.0</td>\n",
       "      <td>4</td>\n",
       "      <td>85</td>\n",
       "      <td>25019</td>\n",
       "    </tr>\n",
       "    <tr>\n",
       "      <th>158</th>\n",
       "      <td>[Log] 85: Microsoft Improves Windows Phone Voi...</td>\n",
       "      <td>[Log] 85: http://feedproxy.google.com/~r/Techc...</td>\n",
       "      <td>2089</td>\n",
       "      <td>4</td>\n",
       "      <td>4.0</td>\n",
       "      <td>1</td>\n",
       "      <td>86</td>\n",
       "      <td>49614</td>\n",
       "    </tr>\n",
       "    <tr>\n",
       "      <th>159</th>\n",
       "      <td>[Log] 86: How Google's Acquisition Of DNNresea...</td>\n",
       "      <td>[Log] 86: http://feedproxy.google.com/~r/Techc...</td>\n",
       "      <td>1530</td>\n",
       "      <td>4</td>\n",
       "      <td>12.0</td>\n",
       "      <td>3</td>\n",
       "      <td>87</td>\n",
       "      <td>33660</td>\n",
       "    </tr>\n",
       "    <tr>\n",
       "      <th>160</th>\n",
       "      <td>[Log] 87: Google's Cloud Is Eating Apple's Lunch</td>\n",
       "      <td>[Log] 87: http://feedproxy.google.com/~r/Techc...</td>\n",
       "      <td>953</td>\n",
       "      <td>6</td>\n",
       "      <td>13.0</td>\n",
       "      <td>2</td>\n",
       "      <td>88</td>\n",
       "      <td>5956</td>\n",
       "    </tr>\n",
       "  </tbody>\n",
       "</table>\n",
       "<p>148 rows × 8 columns</p>\n",
       "</div>"
      ],
      "text/plain": [
       "                                                 Title  \\\n",
       "1     10 Companies Using Machine Learning in Cool Ways   \n",
       "2    How Artificial Intelligence Is Revolutionizing...   \n",
       "5    5 ways Data Science and Machine Learning impac...   \n",
       "7    How Machine Learning can help Cryptocurrency T...   \n",
       "8    Tech companies should stop pretending AI won’t...   \n",
       "..                                                 ...   \n",
       "156  [Log] 83: How Google Uses Machine Learning And...   \n",
       "157  [Log] 84: Zuck Knows If You've Been Bad Or Goo...   \n",
       "158  [Log] 85: Microsoft Improves Windows Phone Voi...   \n",
       "159  [Log] 86: How Google's Acquisition Of DNNresea...   \n",
       "160   [Log] 87: Google's Cloud Is Eating Apple's Lunch   \n",
       "\n",
       "                                                   url  Word count  \\\n",
       "1                                                  NaN        1742   \n",
       "2                                                  NaN         962   \n",
       "5                                                  NaN         761   \n",
       "7    https://cryptovest.com/news/how-machine-learni...         753   \n",
       "8    https://www.technologyreview.com/s/610298/tech...        1118   \n",
       "..                                                 ...         ...   \n",
       "156  [Log] 83: http://feedproxy.google.com/~r/Techc...        3239   \n",
       "157  [Log] 84: http://feedproxy.google.com/~r/Techc...        2566   \n",
       "158  [Log] 85: http://feedproxy.google.com/~r/Techc...        2089   \n",
       "159  [Log] 86: http://feedproxy.google.com/~r/Techc...        1530   \n",
       "160  [Log] 87: http://feedproxy.google.com/~r/Techc...         953   \n",
       "\n",
       "     # of Links  # of comments  # Images video  Elapsed days  # Shares  \n",
       "1             9            NaN               9             5     25000  \n",
       "2             6            0.0               1            10     42000  \n",
       "5             0            NaN               1            14     21000  \n",
       "7             3            0.0               1            78     77000  \n",
       "8             2            NaN               1            62     59400  \n",
       "..          ...            ...             ...           ...       ...  \n",
       "156           3           11.0               1            84      3239  \n",
       "157           3            8.0               4            85     25019  \n",
       "158           4            4.0               1            86     49614  \n",
       "159           4           12.0               3            87     33660  \n",
       "160           6           13.0               2            88      5956  \n",
       "\n",
       "[148 rows x 8 columns]"
      ]
     },
     "execution_count": 18,
     "metadata": {},
     "output_type": "execute_result"
    }
   ],
   "source": [
    "filtered_data"
   ]
  },
  {
   "cell_type": "code",
   "execution_count": 19,
   "id": "cffd7730",
   "metadata": {},
   "outputs": [
    {
     "data": {
      "text/plain": [
       "<AxesSubplot:xlabel='Word count', ylabel='# Shares'>"
      ]
     },
     "execution_count": 19,
     "metadata": {},
     "output_type": "execute_result"
    },
    {
     "data": {
      "image/png": "[encoded data removed]",
      "text/plain": [
       "<Figure size 432x288 with 1 Axes>"
      ]
     },
     "metadata": {
      "needs_background": "light"
     },
     "output_type": "display_data"
    }
   ],
   "source": [
    "from sklearn.linear_model import LinearRegression\n",
    "\n",
    "sns.scatterplot(x='Word count',y='# Shares', data=filtered_data)"
   ]
  },
  {
   "cell_type": "code",
   "execution_count": 20,
   "id": "0e494ac7",
   "metadata": {},
   "outputs": [
    {
     "data": {
      "text/plain": [
       "<AxesSubplot:xlabel='Word count', ylabel='# Shares'>"
      ]
     },
     "execution_count": 20,
     "metadata": {},
     "output_type": "execute_result"
    },
    {
     "data": {
      "image/png": "[encoded data removed]",
      "text/plain": [
       "<Figure size 432x288 with 1 Axes>"
      ]
     },
     "metadata": {
      "needs_background": "light"
     },
     "output_type": "display_data"
    }
   ],
   "source": [
    "explicativa = filtered_data[['Word count']]\n",
    "objetivo = filtered_data[['# Shares']]\n",
    "\n",
    "model = LinearRegression()\n",
    "model.fit(X=explicativa, y=objetivo)\n",
    "\n",
    "y_predict = model.predict(X=filtered_data[['Word count']])\n",
    "filtered_data.insert(0, 'pred', y_predict)\n",
    "\n",
    "filtered_data.head()\n",
    "\n",
    "sns.scatterplot(x='Word count',y='# Shares', data=filtered_data)\n",
    "sns.scatterplot(x='Word count',y='pred', data=filtered_data)\n",
    "sns.lineplot(x='Word count', y='pred',data=filtered_data , color=\"red\")\n",
    "\n",
    "\n",
    "\n"
   ]
  },
  {
   "cell_type": "markdown",
   "id": "746c9f62",
   "metadata": {},
   "source": [
    "## Predicción de cantidad de mensajes compartidos ('# Shares')"
   ]
  },
  {
   "cell_type": "code",
   "execution_count": 21,
   "id": "dca471a6",
   "metadata": {},
   "outputs": [],
   "source": [
    "# importar librerías\n",
    "from sklearn.linear_model import LinearRegression\n",
    "from sklearn.metrics import mean_squared_error\n",
    "from sklearn.metrics import r2_score\n",
    "from sklearn import linear_model"
   ]
  },
  {
   "cell_type": "code",
   "execution_count": 22,
   "id": "ff0f4b8a",
   "metadata": {
    "scrolled": false
   },
   "outputs": [
    {
     "name": "stdout",
     "output_type": "stream",
     "text": [
      "Coeficiente: \n",
      " [5.69765366]\n",
      "Termino independiente: \n",
      " 11200.303223074163\n",
      "Error medio: 372888728.34\n",
      "Puntuación de varianza: 0.06\n"
     ]
    }
   ],
   "source": [
    "# Asignamos nuestra variable de entrada X para entrenamiento y las etiquetas Y.\n",
    "dataX =filtered_data[[\"Word count\"]]\n",
    "X_train = np.array(dataX)\n",
    "y_train = filtered_data['# Shares'].values\n",
    " \n",
    "# Creamos el objeto de Regresión Linear\n",
    "model = LinearRegression()\n",
    "regr = model\n",
    " \n",
    "# Entrenamos nuestro modelo\n",
    "regr.fit(X_train, y_train)\n",
    " \n",
    "# Hacemos las predicciones que en definitiva una línea (en este caso, al ser 2D)\n",
    "y_pred = regr.predict(X_train)\n",
    " \n",
    "# Veamos los coeficienetes obtenidos, En nuestro caso, serán la Tangente\n",
    "print('Coeficiente: \\n', regr.coef_)\n",
    "# Este es el valor donde corta el eje Y (en X=0)\n",
    "print('Termino independiente: \\n', regr.intercept_)\n",
    "# Error Cuadrado Medio\n",
    "print(\"Error medio: %.2f\" % mean_squared_error(y_train, y_pred))\n",
    "# Puntaje de Varianza. El mejor puntaje es un 1.0\n",
    "print('Puntuación de varianza: %.2f' % r2_score(y_train, y_pred))"
   ]
  },
  {
   "cell_type": "code",
   "execution_count": 23,
   "id": "d8f6ff7d",
   "metadata": {
    "scrolled": true
   },
   "outputs": [
    {
     "name": "stdout",
     "output_type": "stream",
     "text": [
      "Predict :  16897 22595 28293\n"
     ]
    }
   ],
   "source": [
    "#Vamos a comprobar:\n",
    "# Quiero predecir cuántos ### Preguntas voy a obtener por un artículo con 1.000 palabras,\n",
    "# según nuestro modelo, hacemos:\n",
    "predict_1 = regr.predict([[1000]])\n",
    "predict_2 = regr.predict([[2000]])\n",
    "predict_3 = regr.predict([[3000]])\n",
    "print(\"Predict : \", int(predict_1), int(predict_2) , int(predict_3))"
   ]
  },
  {
   "cell_type": "markdown",
   "id": "0ec46338",
   "metadata": {},
   "source": [
    "### Preguntas"
   ]
  },
  {
   "cell_type": "code",
   "execution_count": 24,
   "id": "207dab33",
   "metadata": {},
   "outputs": [],
   "source": [
    "# interpretar los resultados"
   ]
  },
  {
   "cell_type": "markdown",
   "id": "09277d82",
   "metadata": {},
   "source": [
    "### Respuestas"
   ]
  },
  {
   "cell_type": "code",
   "execution_count": 25,
   "id": "c7c23fcf",
   "metadata": {},
   "outputs": [],
   "source": [
    "# Se puede ver que para un articulo con \n",
    "# mil palabras da como \"Share\" 16.897, para dos mil 22.595 y tres mil palabras 28.293  \n",
    "# dando asi 5698  Share cada 1000  palabras extras al predict 1 "
   ]
  },
  {
   "cell_type": "markdown",
   "id": "5d854142",
   "metadata": {},
   "source": [
    "## Aplique Regresión lineal múltiple\n",
    "\n",
    "Cree un nuevo DataFrame y agregue la variable 'Word count' y una nueva variable que será la suma de los enlaces, comentarios e imágenes"
   ]
  },
  {
   "cell_type": "code",
   "execution_count": 26,
   "id": "11f15d14",
   "metadata": {},
   "outputs": [],
   "source": [
    "suma = (filtered_data[\"# of Links\"] + filtered_data['# of comments'].fillna(0) + filtered_data['# Images video'])\n",
    "DataFrame2 =  pd.DataFrame()\n",
    "DataFrame2[\"Word count\"] = filtered_data[\"Word count\"]\n",
    "DataFrame2[\"suma\"] = suma\n",
    "XY_train = np.array(DataFrame2)\n",
    "z_train = filtered_data['# Shares'].values"
   ]
  },
  {
   "cell_type": "code",
   "execution_count": 27,
   "id": "5ea73475",
   "metadata": {},
   "outputs": [],
   "source": [
    "# Aplicar Regresión Lineal"
   ]
  },
  {
   "cell_type": "code",
   "execution_count": 28,
   "id": "cab59176",
   "metadata": {
    "scrolled": true
   },
   "outputs": [
    {
     "name": "stdout",
     "output_type": "stream",
     "text": [
      "Coeficiente: \n",
      " [   6.63216324 -483.40753769]\n",
      "Error medio: 352122816.48\n",
      "Puntuación de varianza: 0.11\n"
     ]
    }
   ],
   "source": [
    "# Creamos un nuevo objeto de Regresión Lineal\n",
    "regr2 = linear_model.LinearRegression()\n",
    " \n",
    "# Entrenamos el modelo, esta vez, con 2 dimensiones\n",
    "# obtendremos 2 coeficientes, para graficar un plano\n",
    "regr2.fit(XY_train, z_train)\n",
    " \n",
    "# Hacemos la predicción con la que tendremos puntos sobre el plano hallado\n",
    "z_pred = regr2.predict(XY_train)\n",
    " \n",
    "# Los coeficientes\n",
    "print('Coeficiente: \\n', regr2.coef_)\n",
    "# Error cuadrático medio\n",
    "print(\"Error medio: %.2f\" % mean_squared_error(z_train, z_pred))\n",
    "# Evaluamos el puntaje de varianza (siendo 1.0 el mejor posible)\n",
    "print('Puntuación de varianza: %.2f' % r2_score(z_train, z_pred))"
   ]
  },
  {
   "cell_type": "code",
   "execution_count": 29,
   "id": "5a587cc2",
   "metadata": {
    "scrolled": true
   },
   "outputs": [
    {
     "name": "stdout",
     "output_type": "stream",
     "text": [
      "13402\n"
     ]
    }
   ],
   "source": [
    "predict_1 = regr2.predict([[1000, 5+10+6]])\n",
    "print(int(predict_1))"
   ]
  },
  {
   "cell_type": "markdown",
   "id": "b4fc5af2",
   "metadata": {},
   "source": [
    "### Preguntas"
   ]
  },
  {
   "cell_type": "code",
   "execution_count": 30,
   "id": "528bd101",
   "metadata": {},
   "outputs": [],
   "source": [
    "# Interpretar los resultados"
   ]
  },
  {
   "cell_type": "markdown",
   "id": "2ac9650b",
   "metadata": {},
   "source": [
    "### Respuestas"
   ]
  },
  {
   "cell_type": "code",
   "execution_count": 31,
   "id": "dc5d5425",
   "metadata": {},
   "outputs": [],
   "source": [
    "# Con  1000 palabras y con  5 enlaces, 10 comentarios y 6 imagenes\n",
    "# el resultado del modelo y la prediccion es de 13.402"
   ]
  }
 ],
 "metadata": {
  "kernelspec": {
   "display_name": "Python 3 (ipykernel)",
   "language": "python",
   "name": "python3"
  },
  "language_info": {
   "codemirror_mode": {
    "name": "ipython",
    "version": 3
   },
   "file_extension": ".py",
   "mimetype": "text/x-python",
   "name": "python",
   "nbconvert_exporter": "python",
   "pygments_lexer": "ipython3",
   "version": "3.9.12"
  }
 },
 "nbformat": 4,
 "nbformat_minor": 5
}
