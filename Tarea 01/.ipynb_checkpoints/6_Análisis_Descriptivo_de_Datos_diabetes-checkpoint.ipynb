{
 "cells": [
  {
   "cell_type": "markdown",
   "metadata": {
    "id": "SbAAa178dXPs"
   },
   "source": [
    "# Analizando datos\n",
    "\n",
    "Trabajaremos con un conjunto de datos sobre diabetes extraído de [Diabetes](https://www.kaggle.com/uciml/pima-indians-diabetes-database).\n",
    "\n",
    "El conjunto de datos consta de varias variables predictoras médicas (independientes) y una variable objetivo (dependiente): Resultado. Esta variable objetivo es igual a 1 si tiene diabetes y 0 en caso contrario.\n",
    "\n",
    "Las variables independientes incluyen el número de embarazos que ha tenido la paciente, su IMC, nivel de insulina, edad, etc."
   ]
  },
  {
   "cell_type": "markdown",
   "metadata": {
    "id": "tZfCPWNxq5QJ"
   },
   "source": [
    "#### 1- Usando la librería ``pandas`` \n",
    "\n",
    "leer el archivo ``diabetes.csv`` y asignar el contenido a una variable que llamaremos ``datos``, luego visualizar los primeros registros ``datos.head()``"
   ]
  },
  {
   "cell_type": "markdown",
   "metadata": {},
   "source": [
    "***- Importación de las librerias***"
   ]
  },
  {
   "cell_type": "code",
   "execution_count": 1,
   "metadata": {
    "id": "Ii0yLBXCIimS"
   },
   "outputs": [],
   "source": [
    "# importando\n",
    "import pandas as pd"
   ]
  },
  {
   "cell_type": "code",
   "execution_count": 2,
   "metadata": {
    "id": "t2axj7VxLV6W"
   },
   "outputs": [],
   "source": [
    "import matplotlib.pyplot as plt\n"
   ]
  },
  {
   "cell_type": "code",
   "execution_count": 3,
   "metadata": {
    "scrolled": false
   },
   "outputs": [
    {
     "data": {
      "text/html": [
       "<div>\n",
       "<style scoped>\n",
       "    .dataframe tbody tr th:only-of-type {\n",
       "        vertical-align: middle;\n",
       "    }\n",
       "\n",
       "    .dataframe tbody tr th {\n",
       "        vertical-align: top;\n",
       "    }\n",
       "\n",
       "    .dataframe thead th {\n",
       "        text-align: right;\n",
       "    }\n",
       "</style>\n",
       "<table border=\"1\" class=\"dataframe\">\n",
       "  <thead>\n",
       "    <tr style=\"text-align: right;\">\n",
       "      <th></th>\n",
       "      <th>Pregnancies</th>\n",
       "      <th>Glucose</th>\n",
       "      <th>BloodPressure</th>\n",
       "      <th>SkinThickness</th>\n",
       "      <th>Insulin</th>\n",
       "      <th>BMI</th>\n",
       "      <th>DiabetesPedigreeFunction</th>\n",
       "      <th>Age</th>\n",
       "      <th>Outcome</th>\n",
       "    </tr>\n",
       "  </thead>\n",
       "  <tbody>\n",
       "    <tr>\n",
       "      <th>0</th>\n",
       "      <td>6</td>\n",
       "      <td>148</td>\n",
       "      <td>72</td>\n",
       "      <td>35</td>\n",
       "      <td>0</td>\n",
       "      <td>33.6</td>\n",
       "      <td>627.000</td>\n",
       "      <td>50</td>\n",
       "      <td>1</td>\n",
       "    </tr>\n",
       "    <tr>\n",
       "      <th>1</th>\n",
       "      <td>1</td>\n",
       "      <td>85</td>\n",
       "      <td>66</td>\n",
       "      <td>29</td>\n",
       "      <td>0</td>\n",
       "      <td>26.6</td>\n",
       "      <td>351.000</td>\n",
       "      <td>31</td>\n",
       "      <td>0</td>\n",
       "    </tr>\n",
       "    <tr>\n",
       "      <th>2</th>\n",
       "      <td>8</td>\n",
       "      <td>183</td>\n",
       "      <td>64</td>\n",
       "      <td>0</td>\n",
       "      <td>0</td>\n",
       "      <td>23.3</td>\n",
       "      <td>672.000</td>\n",
       "      <td>32</td>\n",
       "      <td>1</td>\n",
       "    </tr>\n",
       "    <tr>\n",
       "      <th>3</th>\n",
       "      <td>1</td>\n",
       "      <td>89</td>\n",
       "      <td>66</td>\n",
       "      <td>23</td>\n",
       "      <td>94</td>\n",
       "      <td>28.1</td>\n",
       "      <td>167.000</td>\n",
       "      <td>21</td>\n",
       "      <td>0</td>\n",
       "    </tr>\n",
       "    <tr>\n",
       "      <th>4</th>\n",
       "      <td>0</td>\n",
       "      <td>137</td>\n",
       "      <td>40</td>\n",
       "      <td>35</td>\n",
       "      <td>168</td>\n",
       "      <td>43.1</td>\n",
       "      <td>2.288</td>\n",
       "      <td>33</td>\n",
       "      <td>1</td>\n",
       "    </tr>\n",
       "    <tr>\n",
       "      <th>...</th>\n",
       "      <td>...</td>\n",
       "      <td>...</td>\n",
       "      <td>...</td>\n",
       "      <td>...</td>\n",
       "      <td>...</td>\n",
       "      <td>...</td>\n",
       "      <td>...</td>\n",
       "      <td>...</td>\n",
       "      <td>...</td>\n",
       "    </tr>\n",
       "    <tr>\n",
       "      <th>763</th>\n",
       "      <td>10</td>\n",
       "      <td>101</td>\n",
       "      <td>76</td>\n",
       "      <td>48</td>\n",
       "      <td>180</td>\n",
       "      <td>32.9</td>\n",
       "      <td>171.000</td>\n",
       "      <td>63</td>\n",
       "      <td>0</td>\n",
       "    </tr>\n",
       "    <tr>\n",
       "      <th>764</th>\n",
       "      <td>2</td>\n",
       "      <td>122</td>\n",
       "      <td>70</td>\n",
       "      <td>27</td>\n",
       "      <td>0</td>\n",
       "      <td>36.8</td>\n",
       "      <td>0.340</td>\n",
       "      <td>27</td>\n",
       "      <td>0</td>\n",
       "    </tr>\n",
       "    <tr>\n",
       "      <th>765</th>\n",
       "      <td>5</td>\n",
       "      <td>121</td>\n",
       "      <td>72</td>\n",
       "      <td>23</td>\n",
       "      <td>112</td>\n",
       "      <td>26.2</td>\n",
       "      <td>245.000</td>\n",
       "      <td>30</td>\n",
       "      <td>0</td>\n",
       "    </tr>\n",
       "    <tr>\n",
       "      <th>766</th>\n",
       "      <td>1</td>\n",
       "      <td>126</td>\n",
       "      <td>60</td>\n",
       "      <td>0</td>\n",
       "      <td>0</td>\n",
       "      <td>30.1</td>\n",
       "      <td>349.000</td>\n",
       "      <td>47</td>\n",
       "      <td>1</td>\n",
       "    </tr>\n",
       "    <tr>\n",
       "      <th>767</th>\n",
       "      <td>1</td>\n",
       "      <td>93</td>\n",
       "      <td>70</td>\n",
       "      <td>31</td>\n",
       "      <td>0</td>\n",
       "      <td>30.4</td>\n",
       "      <td>315.000</td>\n",
       "      <td>23</td>\n",
       "      <td>0</td>\n",
       "    </tr>\n",
       "  </tbody>\n",
       "</table>\n",
       "<p>768 rows × 9 columns</p>\n",
       "</div>"
      ],
      "text/plain": [
       "     Pregnancies  Glucose  BloodPressure  SkinThickness  Insulin   BMI  \\\n",
       "0              6      148             72             35        0  33.6   \n",
       "1              1       85             66             29        0  26.6   \n",
       "2              8      183             64              0        0  23.3   \n",
       "3              1       89             66             23       94  28.1   \n",
       "4              0      137             40             35      168  43.1   \n",
       "..           ...      ...            ...            ...      ...   ...   \n",
       "763           10      101             76             48      180  32.9   \n",
       "764            2      122             70             27        0  36.8   \n",
       "765            5      121             72             23      112  26.2   \n",
       "766            1      126             60              0        0  30.1   \n",
       "767            1       93             70             31        0  30.4   \n",
       "\n",
       "     DiabetesPedigreeFunction  Age  Outcome  \n",
       "0                     627.000   50        1  \n",
       "1                     351.000   31        0  \n",
       "2                     672.000   32        1  \n",
       "3                     167.000   21        0  \n",
       "4                       2.288   33        1  \n",
       "..                        ...  ...      ...  \n",
       "763                   171.000   63        0  \n",
       "764                     0.340   27        0  \n",
       "765                   245.000   30        0  \n",
       "766                   349.000   47        1  \n",
       "767                   315.000   23        0  \n",
       "\n",
       "[768 rows x 9 columns]"
      ]
     },
     "execution_count": 3,
     "metadata": {},
     "output_type": "execute_result"
    }
   ],
   "source": [
    "pd.read_csv('datos/diabetes.csv', sep=',')"
   ]
  },
  {
   "cell_type": "markdown",
   "metadata": {},
   "source": [
    "***- Guardando los datos en la variable ``datos ``***"
   ]
  },
  {
   "cell_type": "code",
   "execution_count": 4,
   "metadata": {
    "scrolled": true
   },
   "outputs": [],
   "source": [
    "# guardando los datos en la variable datos\n",
    "datos = pd.read_csv(\"datos/diabetes.csv\", sep=\",\")"
   ]
  },
  {
   "cell_type": "code",
   "execution_count": 5,
   "metadata": {},
   "outputs": [
    {
     "data": {
      "text/html": [
       "<div>\n",
       "<style scoped>\n",
       "    .dataframe tbody tr th:only-of-type {\n",
       "        vertical-align: middle;\n",
       "    }\n",
       "\n",
       "    .dataframe tbody tr th {\n",
       "        vertical-align: top;\n",
       "    }\n",
       "\n",
       "    .dataframe thead th {\n",
       "        text-align: right;\n",
       "    }\n",
       "</style>\n",
       "<table border=\"1\" class=\"dataframe\">\n",
       "  <thead>\n",
       "    <tr style=\"text-align: right;\">\n",
       "      <th></th>\n",
       "      <th>Pregnancies</th>\n",
       "      <th>Glucose</th>\n",
       "      <th>BloodPressure</th>\n",
       "      <th>SkinThickness</th>\n",
       "      <th>Insulin</th>\n",
       "      <th>BMI</th>\n",
       "      <th>DiabetesPedigreeFunction</th>\n",
       "      <th>Age</th>\n",
       "      <th>Outcome</th>\n",
       "    </tr>\n",
       "  </thead>\n",
       "  <tbody>\n",
       "    <tr>\n",
       "      <th>0</th>\n",
       "      <td>6</td>\n",
       "      <td>148</td>\n",
       "      <td>72</td>\n",
       "      <td>35</td>\n",
       "      <td>0</td>\n",
       "      <td>33.6</td>\n",
       "      <td>627.000</td>\n",
       "      <td>50</td>\n",
       "      <td>1</td>\n",
       "    </tr>\n",
       "    <tr>\n",
       "      <th>1</th>\n",
       "      <td>1</td>\n",
       "      <td>85</td>\n",
       "      <td>66</td>\n",
       "      <td>29</td>\n",
       "      <td>0</td>\n",
       "      <td>26.6</td>\n",
       "      <td>351.000</td>\n",
       "      <td>31</td>\n",
       "      <td>0</td>\n",
       "    </tr>\n",
       "    <tr>\n",
       "      <th>2</th>\n",
       "      <td>8</td>\n",
       "      <td>183</td>\n",
       "      <td>64</td>\n",
       "      <td>0</td>\n",
       "      <td>0</td>\n",
       "      <td>23.3</td>\n",
       "      <td>672.000</td>\n",
       "      <td>32</td>\n",
       "      <td>1</td>\n",
       "    </tr>\n",
       "    <tr>\n",
       "      <th>3</th>\n",
       "      <td>1</td>\n",
       "      <td>89</td>\n",
       "      <td>66</td>\n",
       "      <td>23</td>\n",
       "      <td>94</td>\n",
       "      <td>28.1</td>\n",
       "      <td>167.000</td>\n",
       "      <td>21</td>\n",
       "      <td>0</td>\n",
       "    </tr>\n",
       "    <tr>\n",
       "      <th>4</th>\n",
       "      <td>0</td>\n",
       "      <td>137</td>\n",
       "      <td>40</td>\n",
       "      <td>35</td>\n",
       "      <td>168</td>\n",
       "      <td>43.1</td>\n",
       "      <td>2.288</td>\n",
       "      <td>33</td>\n",
       "      <td>1</td>\n",
       "    </tr>\n",
       "  </tbody>\n",
       "</table>\n",
       "</div>"
      ],
      "text/plain": [
       "   Pregnancies  Glucose  BloodPressure  SkinThickness  Insulin   BMI  \\\n",
       "0            6      148             72             35        0  33.6   \n",
       "1            1       85             66             29        0  26.6   \n",
       "2            8      183             64              0        0  23.3   \n",
       "3            1       89             66             23       94  28.1   \n",
       "4            0      137             40             35      168  43.1   \n",
       "\n",
       "   DiabetesPedigreeFunction  Age  Outcome  \n",
       "0                   627.000   50        1  \n",
       "1                   351.000   31        0  \n",
       "2                   672.000   32        1  \n",
       "3                   167.000   21        0  \n",
       "4                     2.288   33        1  "
      ]
     },
     "execution_count": 5,
     "metadata": {},
     "output_type": "execute_result"
    }
   ],
   "source": [
    "# Se visualizan los primeros registros\n",
    "datos.head()"
   ]
  },
  {
   "cell_type": "markdown",
   "metadata": {
    "id": "o9bEmTu9q5QK"
   },
   "source": [
    "#### 2- Visualizar la dimensión del DataFrame ``datos``\n",
    "Cuantas filas y cuantas columnas tiene el dataset?"
   ]
  },
  {
   "cell_type": "code",
   "execution_count": 6,
   "metadata": {},
   "outputs": [
    {
     "data": {
      "text/plain": [
       "pandas.core.frame.DataFrame"
      ]
     },
     "execution_count": 6,
     "metadata": {},
     "output_type": "execute_result"
    }
   ],
   "source": [
    "#Verifico el tipo de dato\n",
    "type(datos)"
   ]
  },
  {
   "cell_type": "markdown",
   "metadata": {},
   "source": [
    "***- Guardo las dimensiones del dataFrame en ``datos ``***"
   ]
  },
  {
   "cell_type": "code",
   "execution_count": 7,
   "metadata": {
    "id": "-q-QqlygKC_3"
   },
   "outputs": [],
   "source": [
    "totalColumnas = len(datos.columns) \n",
    "totalFilas = len(datos)"
   ]
  },
  {
   "cell_type": "code",
   "execution_count": 8,
   "metadata": {},
   "outputs": [
    {
     "name": "stdout",
     "output_type": "stream",
     "text": [
      "Total filas y columnas: ( 768 , 9 )\n"
     ]
    }
   ],
   "source": [
    "# Guardo las dimensiones del datadrame datos\n",
    "print(\"Total filas y columnas:\",\"(\",totalFilas,\",\",totalColumnas,\")\")"
   ]
  },
  {
   "cell_type": "markdown",
   "metadata": {
    "id": "QVitxpXMq5QL"
   },
   "source": [
    "#### 3- Muestre la información del conjunto de datos:\n",
    "¿Tiene valores faltantes? "
   ]
  },
  {
   "cell_type": "markdown",
   "metadata": {},
   "source": [
    "***- Teniendo en cuenta la tabla resultante puedo verificar\n",
    "que en las 9 columnas se utilizan los 768 datos de entrada en cada registro, es decir \n",
    "no hay valores faltantes en ninguna columna***"
   ]
  },
  {
   "cell_type": "code",
   "execution_count": 9,
   "metadata": {
    "id": "AFmLv5tcKkc8"
   },
   "outputs": [
    {
     "name": "stdout",
     "output_type": "stream",
     "text": [
      "<class 'pandas.core.frame.DataFrame'>\n",
      "RangeIndex: 768 entries, 0 to 767\n",
      "Data columns (total 9 columns):\n",
      " #   Column                    Non-Null Count  Dtype  \n",
      "---  ------                    --------------  -----  \n",
      " 0   Pregnancies               768 non-null    int64  \n",
      " 1   Glucose                   768 non-null    int64  \n",
      " 2   BloodPressure             768 non-null    int64  \n",
      " 3   SkinThickness             768 non-null    int64  \n",
      " 4   Insulin                   768 non-null    int64  \n",
      " 5   BMI                       768 non-null    float64\n",
      " 6   DiabetesPedigreeFunction  768 non-null    float64\n",
      " 7   Age                       768 non-null    int64  \n",
      " 8   Outcome                   768 non-null    int64  \n",
      "dtypes: float64(2), int64(7)\n",
      "memory usage: 54.1 KB\n"
     ]
    }
   ],
   "source": [
    "# con data.info() verifico el numero total de elementos que tiene not-null\n",
    "datos.info()"
   ]
  },
  {
   "cell_type": "markdown",
   "metadata": {
    "id": "yF4rBCI0q5QM"
   },
   "source": [
    "#### 4- Renombrar los nombres de las columnas como sigue:\n",
    "    Pregnancies => embarazos\n",
    "    Glucose => glucosa\n",
    "    BloodPressure => presionArterial\n",
    "    SkinThickness => espesorPiel\n",
    "    Insulin => insulina\n",
    "    BMI => bmi\n",
    "    DiabetesPedigreeFunction => diabetesPedigree\n",
    "    Age => edad\n",
    "    Outcome => resultado"
   ]
  },
  {
   "cell_type": "markdown",
   "metadata": {},
   "source": [
    "***- Renombro cada columna con el nuevo nombre***"
   ]
  },
  {
   "cell_type": "code",
   "execution_count": 10,
   "metadata": {
    "id": "vp5n9NcIq5QN"
   },
   "outputs": [],
   "source": [
    "datos.columns = ['embarazos','glucosa','presionArterial','espesorPiel','insulina','bmi','diabetesPedigree','edad','resultado']"
   ]
  },
  {
   "cell_type": "code",
   "execution_count": 11,
   "metadata": {
    "scrolled": true
   },
   "outputs": [
    {
     "data": {
      "text/plain": [
       "Index(['embarazos', 'glucosa', 'presionArterial', 'espesorPiel', 'insulina',\n",
       "       'bmi', 'diabetesPedigree', 'edad', 'resultado'],\n",
       "      dtype='object')"
      ]
     },
     "execution_count": 11,
     "metadata": {},
     "output_type": "execute_result"
    }
   ],
   "source": [
    "# Verifico si se actualizo los nuevos nombres de las columnas\n",
    "datos.columns"
   ]
  },
  {
   "cell_type": "markdown",
   "metadata": {
    "id": "vJwSa0Rsq5QN"
   },
   "source": [
    "## Explorar los datos\n",
    "Estamos analizando y explorando los datos por medio de medidas descriptivas y visualizaciones. "
   ]
  },
  {
   "cell_type": "markdown",
   "metadata": {
    "id": "mo-3PwB2q5QN"
   },
   "source": [
    "#### 5- Visualizar la cantidad registros por ``resultado`` \n",
    "¿Cuántos registros corresponden a cada resultado?"
   ]
  },
  {
   "cell_type": "markdown",
   "metadata": {},
   "source": [
    "***- Realizando un conteo de la columna resultado verifico que hay 500 resultados para ``0`` y ``268`` resultados para 1, es\n",
    "decir ``268 personas`` tienen ``diabete`` y ``500 caso contrario``***"
   ]
  },
  {
   "cell_type": "code",
   "execution_count": 12,
   "metadata": {},
   "outputs": [
    {
     "data": {
      "text/plain": [
       "0    500\n",
       "1    268\n",
       "Name: resultado, dtype: int64"
      ]
     },
     "execution_count": 12,
     "metadata": {},
     "output_type": "execute_result"
    }
   ],
   "source": [
    "datos.resultado.value_counts()"
   ]
  },
  {
   "cell_type": "markdown",
   "metadata": {
    "id": "mFLHSP9Uq5QO"
   },
   "source": [
    "#### 6- Mostrar información de resumen estadístico de los datos "
   ]
  },
  {
   "cell_type": "markdown",
   "metadata": {},
   "source": [
    "***- Realizando un resumen completo con la función ``describe()``***"
   ]
  },
  {
   "cell_type": "code",
   "execution_count": 13,
   "metadata": {},
   "outputs": [
    {
     "data": {
      "text/html": [
       "<div>\n",
       "<style scoped>\n",
       "    .dataframe tbody tr th:only-of-type {\n",
       "        vertical-align: middle;\n",
       "    }\n",
       "\n",
       "    .dataframe tbody tr th {\n",
       "        vertical-align: top;\n",
       "    }\n",
       "\n",
       "    .dataframe thead th {\n",
       "        text-align: right;\n",
       "    }\n",
       "</style>\n",
       "<table border=\"1\" class=\"dataframe\">\n",
       "  <thead>\n",
       "    <tr style=\"text-align: right;\">\n",
       "      <th></th>\n",
       "      <th>embarazos</th>\n",
       "      <th>glucosa</th>\n",
       "      <th>presionArterial</th>\n",
       "      <th>espesorPiel</th>\n",
       "      <th>insulina</th>\n",
       "      <th>bmi</th>\n",
       "      <th>diabetesPedigree</th>\n",
       "      <th>edad</th>\n",
       "      <th>resultado</th>\n",
       "    </tr>\n",
       "  </thead>\n",
       "  <tbody>\n",
       "    <tr>\n",
       "      <th>count</th>\n",
       "      <td>768.000000</td>\n",
       "      <td>768.000000</td>\n",
       "      <td>768.000000</td>\n",
       "      <td>768.000000</td>\n",
       "      <td>768.000000</td>\n",
       "      <td>768.000000</td>\n",
       "      <td>768.000000</td>\n",
       "      <td>768.000000</td>\n",
       "      <td>768.000000</td>\n",
       "    </tr>\n",
       "    <tr>\n",
       "      <th>mean</th>\n",
       "      <td>3.845052</td>\n",
       "      <td>120.894531</td>\n",
       "      <td>69.105469</td>\n",
       "      <td>20.536458</td>\n",
       "      <td>79.799479</td>\n",
       "      <td>31.992578</td>\n",
       "      <td>347.079349</td>\n",
       "      <td>33.240885</td>\n",
       "      <td>0.348958</td>\n",
       "    </tr>\n",
       "    <tr>\n",
       "      <th>std</th>\n",
       "      <td>3.369578</td>\n",
       "      <td>31.972618</td>\n",
       "      <td>19.355807</td>\n",
       "      <td>15.952218</td>\n",
       "      <td>115.244002</td>\n",
       "      <td>7.884160</td>\n",
       "      <td>254.431659</td>\n",
       "      <td>11.760232</td>\n",
       "      <td>0.476951</td>\n",
       "    </tr>\n",
       "    <tr>\n",
       "      <th>min</th>\n",
       "      <td>0.000000</td>\n",
       "      <td>0.000000</td>\n",
       "      <td>0.000000</td>\n",
       "      <td>0.000000</td>\n",
       "      <td>0.000000</td>\n",
       "      <td>0.000000</td>\n",
       "      <td>0.100000</td>\n",
       "      <td>21.000000</td>\n",
       "      <td>0.000000</td>\n",
       "    </tr>\n",
       "    <tr>\n",
       "      <th>25%</th>\n",
       "      <td>1.000000</td>\n",
       "      <td>99.000000</td>\n",
       "      <td>62.000000</td>\n",
       "      <td>0.000000</td>\n",
       "      <td>0.000000</td>\n",
       "      <td>27.300000</td>\n",
       "      <td>165.000000</td>\n",
       "      <td>24.000000</td>\n",
       "      <td>0.000000</td>\n",
       "    </tr>\n",
       "    <tr>\n",
       "      <th>50%</th>\n",
       "      <td>3.000000</td>\n",
       "      <td>117.000000</td>\n",
       "      <td>72.000000</td>\n",
       "      <td>23.000000</td>\n",
       "      <td>30.500000</td>\n",
       "      <td>32.000000</td>\n",
       "      <td>295.500000</td>\n",
       "      <td>29.000000</td>\n",
       "      <td>0.000000</td>\n",
       "    </tr>\n",
       "    <tr>\n",
       "      <th>75%</th>\n",
       "      <td>6.000000</td>\n",
       "      <td>140.250000</td>\n",
       "      <td>80.000000</td>\n",
       "      <td>32.000000</td>\n",
       "      <td>127.250000</td>\n",
       "      <td>36.600000</td>\n",
       "      <td>527.250000</td>\n",
       "      <td>41.000000</td>\n",
       "      <td>1.000000</td>\n",
       "    </tr>\n",
       "    <tr>\n",
       "      <th>max</th>\n",
       "      <td>17.000000</td>\n",
       "      <td>199.000000</td>\n",
       "      <td>122.000000</td>\n",
       "      <td>99.000000</td>\n",
       "      <td>846.000000</td>\n",
       "      <td>67.100000</td>\n",
       "      <td>997.000000</td>\n",
       "      <td>81.000000</td>\n",
       "      <td>1.000000</td>\n",
       "    </tr>\n",
       "  </tbody>\n",
       "</table>\n",
       "</div>"
      ],
      "text/plain": [
       "        embarazos     glucosa  presionArterial  espesorPiel    insulina  \\\n",
       "count  768.000000  768.000000       768.000000   768.000000  768.000000   \n",
       "mean     3.845052  120.894531        69.105469    20.536458   79.799479   \n",
       "std      3.369578   31.972618        19.355807    15.952218  115.244002   \n",
       "min      0.000000    0.000000         0.000000     0.000000    0.000000   \n",
       "25%      1.000000   99.000000        62.000000     0.000000    0.000000   \n",
       "50%      3.000000  117.000000        72.000000    23.000000   30.500000   \n",
       "75%      6.000000  140.250000        80.000000    32.000000  127.250000   \n",
       "max     17.000000  199.000000       122.000000    99.000000  846.000000   \n",
       "\n",
       "              bmi  diabetesPedigree        edad   resultado  \n",
       "count  768.000000        768.000000  768.000000  768.000000  \n",
       "mean    31.992578        347.079349   33.240885    0.348958  \n",
       "std      7.884160        254.431659   11.760232    0.476951  \n",
       "min      0.000000          0.100000   21.000000    0.000000  \n",
       "25%     27.300000        165.000000   24.000000    0.000000  \n",
       "50%     32.000000        295.500000   29.000000    0.000000  \n",
       "75%     36.600000        527.250000   41.000000    1.000000  \n",
       "max     67.100000        997.000000   81.000000    1.000000  "
      ]
     },
     "execution_count": 13,
     "metadata": {},
     "output_type": "execute_result"
    }
   ],
   "source": [
    "datos.describe()"
   ]
  },
  {
   "cell_type": "code",
   "execution_count": 14,
   "metadata": {},
   "outputs": [
    {
     "name": "stdout",
     "output_type": "stream",
     "text": [
      "52\n"
     ]
    }
   ],
   "source": [
    "# Numero total las edades de la muestra sin repetir\n",
    "datos.edad.unique()\n",
    "print(len(datos.edad.unique()))"
   ]
  },
  {
   "cell_type": "code",
   "execution_count": 15,
   "metadata": {
    "id": "IRYZeUA3LIVC",
    "scrolled": false
   },
   "outputs": [
    {
     "data": {
      "text/plain": [
       "22    72\n",
       "21    63\n",
       "25    48\n",
       "24    46\n",
       "23    38\n",
       "28    35\n",
       "26    33\n",
       "27    32\n",
       "29    29\n",
       "31    24\n",
       "41    22\n",
       "30    21\n",
       "37    19\n",
       "42    18\n",
       "33    17\n",
       "38    16\n",
       "36    16\n",
       "32    16\n",
       "45    15\n",
       "34    14\n",
       "46    13\n",
       "43    13\n",
       "40    13\n",
       "39    12\n",
       "35    10\n",
       "50     8\n",
       "51     8\n",
       "52     8\n",
       "44     8\n",
       "58     7\n",
       "47     6\n",
       "54     6\n",
       "49     5\n",
       "48     5\n",
       "57     5\n",
       "53     5\n",
       "60     5\n",
       "66     4\n",
       "63     4\n",
       "62     4\n",
       "55     4\n",
       "67     3\n",
       "56     3\n",
       "59     3\n",
       "65     3\n",
       "69     2\n",
       "61     2\n",
       "72     1\n",
       "81     1\n",
       "64     1\n",
       "70     1\n",
       "68     1\n",
       "Name: edad, dtype: int64"
      ]
     },
     "execution_count": 15,
     "metadata": {},
     "output_type": "execute_result"
    }
   ],
   "source": [
    "# Cantidad de veces que se repiten las edades\n",
    "datos.edad.value_counts()"
   ]
  },
  {
   "cell_type": "code",
   "execution_count": 16,
   "metadata": {},
   "outputs": [
    {
     "data": {
      "text/plain": [
       "array([  0,  94, 168,  88, 543, 846, 175, 230,  83,  96, 235, 146, 115,\n",
       "       140, 110, 245,  54, 192, 207,  70, 240,  82,  36,  23, 300, 342,\n",
       "       304, 142, 128,  38, 100,  90, 270,  71, 125, 176,  48,  64, 228,\n",
       "        76, 220,  40, 152,  18, 135, 495,  37,  51,  99, 145, 225,  49,\n",
       "        50,  92, 325,  63, 284, 119, 204, 155, 485,  53, 114, 105, 285,\n",
       "       156,  78, 130,  55,  58, 160, 210, 318,  44, 190, 280,  87, 271,\n",
       "       129, 120, 478,  56,  32, 744, 370,  45, 194, 680, 402, 258, 375,\n",
       "       150,  67,  57, 116, 278, 122, 545,  75,  74, 182, 360, 215, 184,\n",
       "        42, 132, 148, 180, 205,  85, 231,  29,  68,  52, 255, 171,  73,\n",
       "       108,  43, 167, 249, 293,  66, 465,  89, 158,  84,  72,  59,  81,\n",
       "       196, 415, 275, 165, 579, 310,  61, 474, 170, 277,  60,  14,  95,\n",
       "       237, 191, 328, 250, 480, 265, 193,  79,  86, 326, 188, 106,  65,\n",
       "       166, 274,  77, 126, 330, 600, 185,  25,  41, 272, 321, 144,  15,\n",
       "       183,  91,  46, 440, 159, 540, 200, 335, 387,  22, 291, 392, 178,\n",
       "       127, 510,  16, 112], dtype=int64)"
      ]
     },
     "execution_count": 16,
     "metadata": {},
     "output_type": "execute_result"
    }
   ],
   "source": [
    "# Todos los datos del registro insulina sin repetir\n",
    "datos.insulina.unique()"
   ]
  },
  {
   "cell_type": "code",
   "execution_count": 17,
   "metadata": {},
   "outputs": [
    {
     "data": {
      "text/html": [
       "<div>\n",
       "<style scoped>\n",
       "    .dataframe tbody tr th:only-of-type {\n",
       "        vertical-align: middle;\n",
       "    }\n",
       "\n",
       "    .dataframe tbody tr th {\n",
       "        vertical-align: top;\n",
       "    }\n",
       "\n",
       "    .dataframe thead th {\n",
       "        text-align: right;\n",
       "    }\n",
       "</style>\n",
       "<table border=\"1\" class=\"dataframe\">\n",
       "  <thead>\n",
       "    <tr style=\"text-align: right;\">\n",
       "      <th></th>\n",
       "      <th>embarazos</th>\n",
       "      <th>glucosa</th>\n",
       "      <th>presionArterial</th>\n",
       "      <th>espesorPiel</th>\n",
       "      <th>insulina</th>\n",
       "      <th>bmi</th>\n",
       "      <th>diabetesPedigree</th>\n",
       "      <th>edad</th>\n",
       "      <th>resultado</th>\n",
       "    </tr>\n",
       "  </thead>\n",
       "  <tbody>\n",
       "    <tr>\n",
       "      <th>0</th>\n",
       "      <td>6</td>\n",
       "      <td>148</td>\n",
       "      <td>72</td>\n",
       "      <td>35</td>\n",
       "      <td>0</td>\n",
       "      <td>33.6</td>\n",
       "      <td>627.000</td>\n",
       "      <td>50</td>\n",
       "      <td>1</td>\n",
       "    </tr>\n",
       "    <tr>\n",
       "      <th>1</th>\n",
       "      <td>1</td>\n",
       "      <td>85</td>\n",
       "      <td>66</td>\n",
       "      <td>29</td>\n",
       "      <td>0</td>\n",
       "      <td>26.6</td>\n",
       "      <td>351.000</td>\n",
       "      <td>31</td>\n",
       "      <td>0</td>\n",
       "    </tr>\n",
       "    <tr>\n",
       "      <th>2</th>\n",
       "      <td>8</td>\n",
       "      <td>183</td>\n",
       "      <td>64</td>\n",
       "      <td>0</td>\n",
       "      <td>0</td>\n",
       "      <td>23.3</td>\n",
       "      <td>672.000</td>\n",
       "      <td>32</td>\n",
       "      <td>1</td>\n",
       "    </tr>\n",
       "    <tr>\n",
       "      <th>3</th>\n",
       "      <td>1</td>\n",
       "      <td>89</td>\n",
       "      <td>66</td>\n",
       "      <td>23</td>\n",
       "      <td>94</td>\n",
       "      <td>28.1</td>\n",
       "      <td>167.000</td>\n",
       "      <td>21</td>\n",
       "      <td>0</td>\n",
       "    </tr>\n",
       "    <tr>\n",
       "      <th>4</th>\n",
       "      <td>0</td>\n",
       "      <td>137</td>\n",
       "      <td>40</td>\n",
       "      <td>35</td>\n",
       "      <td>168</td>\n",
       "      <td>43.1</td>\n",
       "      <td>2.288</td>\n",
       "      <td>33</td>\n",
       "      <td>1</td>\n",
       "    </tr>\n",
       "    <tr>\n",
       "      <th>...</th>\n",
       "      <td>...</td>\n",
       "      <td>...</td>\n",
       "      <td>...</td>\n",
       "      <td>...</td>\n",
       "      <td>...</td>\n",
       "      <td>...</td>\n",
       "      <td>...</td>\n",
       "      <td>...</td>\n",
       "      <td>...</td>\n",
       "    </tr>\n",
       "    <tr>\n",
       "      <th>763</th>\n",
       "      <td>10</td>\n",
       "      <td>101</td>\n",
       "      <td>76</td>\n",
       "      <td>48</td>\n",
       "      <td>180</td>\n",
       "      <td>32.9</td>\n",
       "      <td>171.000</td>\n",
       "      <td>63</td>\n",
       "      <td>0</td>\n",
       "    </tr>\n",
       "    <tr>\n",
       "      <th>764</th>\n",
       "      <td>2</td>\n",
       "      <td>122</td>\n",
       "      <td>70</td>\n",
       "      <td>27</td>\n",
       "      <td>0</td>\n",
       "      <td>36.8</td>\n",
       "      <td>0.340</td>\n",
       "      <td>27</td>\n",
       "      <td>0</td>\n",
       "    </tr>\n",
       "    <tr>\n",
       "      <th>765</th>\n",
       "      <td>5</td>\n",
       "      <td>121</td>\n",
       "      <td>72</td>\n",
       "      <td>23</td>\n",
       "      <td>112</td>\n",
       "      <td>26.2</td>\n",
       "      <td>245.000</td>\n",
       "      <td>30</td>\n",
       "      <td>0</td>\n",
       "    </tr>\n",
       "    <tr>\n",
       "      <th>766</th>\n",
       "      <td>1</td>\n",
       "      <td>126</td>\n",
       "      <td>60</td>\n",
       "      <td>0</td>\n",
       "      <td>0</td>\n",
       "      <td>30.1</td>\n",
       "      <td>349.000</td>\n",
       "      <td>47</td>\n",
       "      <td>1</td>\n",
       "    </tr>\n",
       "    <tr>\n",
       "      <th>767</th>\n",
       "      <td>1</td>\n",
       "      <td>93</td>\n",
       "      <td>70</td>\n",
       "      <td>31</td>\n",
       "      <td>0</td>\n",
       "      <td>30.4</td>\n",
       "      <td>315.000</td>\n",
       "      <td>23</td>\n",
       "      <td>0</td>\n",
       "    </tr>\n",
       "  </tbody>\n",
       "</table>\n",
       "<p>768 rows × 9 columns</p>\n",
       "</div>"
      ],
      "text/plain": [
       "     embarazos  glucosa  presionArterial  espesorPiel  insulina   bmi  \\\n",
       "0            6      148               72           35         0  33.6   \n",
       "1            1       85               66           29         0  26.6   \n",
       "2            8      183               64            0         0  23.3   \n",
       "3            1       89               66           23        94  28.1   \n",
       "4            0      137               40           35       168  43.1   \n",
       "..         ...      ...              ...          ...       ...   ...   \n",
       "763         10      101               76           48       180  32.9   \n",
       "764          2      122               70           27         0  36.8   \n",
       "765          5      121               72           23       112  26.2   \n",
       "766          1      126               60            0         0  30.1   \n",
       "767          1       93               70           31         0  30.4   \n",
       "\n",
       "     diabetesPedigree  edad  resultado  \n",
       "0             627.000    50          1  \n",
       "1             351.000    31          0  \n",
       "2             672.000    32          1  \n",
       "3             167.000    21          0  \n",
       "4               2.288    33          1  \n",
       "..                ...   ...        ...  \n",
       "763           171.000    63          0  \n",
       "764             0.340    27          0  \n",
       "765           245.000    30          0  \n",
       "766           349.000    47          1  \n",
       "767           315.000    23          0  \n",
       "\n",
       "[768 rows x 9 columns]"
      ]
     },
     "execution_count": 17,
     "metadata": {},
     "output_type": "execute_result"
    }
   ],
   "source": [
    "#Impresion de la tabla datos\n",
    "datos"
   ]
  },
  {
   "cell_type": "markdown",
   "metadata": {
    "id": "2X9kfK7Kq5QO"
   },
   "source": [
    "#### 7- ¿Cuál atributo tiene mayor dispersión en sus datos?"
   ]
  },
  {
   "cell_type": "code",
   "execution_count": 27,
   "metadata": {
    "id": "HNLTIYGNL7jn"
   },
   "outputs": [],
   "source": [
    "#Guardo el al variable df \n",
    "df = pd.DataFrame(data=datos)"
   ]
  },
  {
   "cell_type": "code",
   "execution_count": 28,
   "metadata": {
    "scrolled": true
   },
   "outputs": [
    {
     "data": {
      "text/html": [
       "<div>\n",
       "<style scoped>\n",
       "    .dataframe tbody tr th:only-of-type {\n",
       "        vertical-align: middle;\n",
       "    }\n",
       "\n",
       "    .dataframe tbody tr th {\n",
       "        vertical-align: top;\n",
       "    }\n",
       "\n",
       "    .dataframe thead th {\n",
       "        text-align: right;\n",
       "    }\n",
       "</style>\n",
       "<table border=\"1\" class=\"dataframe\">\n",
       "  <thead>\n",
       "    <tr style=\"text-align: right;\">\n",
       "      <th></th>\n",
       "      <th>embarazos</th>\n",
       "      <th>glucosa</th>\n",
       "      <th>presionArterial</th>\n",
       "      <th>espesorPiel</th>\n",
       "      <th>insulina</th>\n",
       "      <th>bmi</th>\n",
       "      <th>diabetesPedigree</th>\n",
       "      <th>edad</th>\n",
       "      <th>resultado</th>\n",
       "      <th>index_column</th>\n",
       "    </tr>\n",
       "  </thead>\n",
       "  <tbody>\n",
       "    <tr>\n",
       "      <th>count</th>\n",
       "      <td>768.000000</td>\n",
       "      <td>768.000000</td>\n",
       "      <td>768.000000</td>\n",
       "      <td>768.000000</td>\n",
       "      <td>768.000000</td>\n",
       "      <td>768.000000</td>\n",
       "      <td>768.000000</td>\n",
       "      <td>768.000000</td>\n",
       "      <td>768.000000</td>\n",
       "      <td>768.000000</td>\n",
       "    </tr>\n",
       "    <tr>\n",
       "      <th>mean</th>\n",
       "      <td>3.845052</td>\n",
       "      <td>120.894531</td>\n",
       "      <td>69.105469</td>\n",
       "      <td>20.536458</td>\n",
       "      <td>79.799479</td>\n",
       "      <td>31.992578</td>\n",
       "      <td>347.079349</td>\n",
       "      <td>33.240885</td>\n",
       "      <td>0.348958</td>\n",
       "      <td>383.500000</td>\n",
       "    </tr>\n",
       "    <tr>\n",
       "      <th>std</th>\n",
       "      <td>3.369578</td>\n",
       "      <td>31.972618</td>\n",
       "      <td>19.355807</td>\n",
       "      <td>15.952218</td>\n",
       "      <td>115.244002</td>\n",
       "      <td>7.884160</td>\n",
       "      <td>254.431659</td>\n",
       "      <td>11.760232</td>\n",
       "      <td>0.476951</td>\n",
       "      <td>221.846794</td>\n",
       "    </tr>\n",
       "    <tr>\n",
       "      <th>min</th>\n",
       "      <td>0.000000</td>\n",
       "      <td>0.000000</td>\n",
       "      <td>0.000000</td>\n",
       "      <td>0.000000</td>\n",
       "      <td>0.000000</td>\n",
       "      <td>0.000000</td>\n",
       "      <td>0.100000</td>\n",
       "      <td>21.000000</td>\n",
       "      <td>0.000000</td>\n",
       "      <td>0.000000</td>\n",
       "    </tr>\n",
       "    <tr>\n",
       "      <th>25%</th>\n",
       "      <td>1.000000</td>\n",
       "      <td>99.000000</td>\n",
       "      <td>62.000000</td>\n",
       "      <td>0.000000</td>\n",
       "      <td>0.000000</td>\n",
       "      <td>27.300000</td>\n",
       "      <td>165.000000</td>\n",
       "      <td>24.000000</td>\n",
       "      <td>0.000000</td>\n",
       "      <td>191.750000</td>\n",
       "    </tr>\n",
       "    <tr>\n",
       "      <th>50%</th>\n",
       "      <td>3.000000</td>\n",
       "      <td>117.000000</td>\n",
       "      <td>72.000000</td>\n",
       "      <td>23.000000</td>\n",
       "      <td>30.500000</td>\n",
       "      <td>32.000000</td>\n",
       "      <td>295.500000</td>\n",
       "      <td>29.000000</td>\n",
       "      <td>0.000000</td>\n",
       "      <td>383.500000</td>\n",
       "    </tr>\n",
       "    <tr>\n",
       "      <th>75%</th>\n",
       "      <td>6.000000</td>\n",
       "      <td>140.250000</td>\n",
       "      <td>80.000000</td>\n",
       "      <td>32.000000</td>\n",
       "      <td>127.250000</td>\n",
       "      <td>36.600000</td>\n",
       "      <td>527.250000</td>\n",
       "      <td>41.000000</td>\n",
       "      <td>1.000000</td>\n",
       "      <td>575.250000</td>\n",
       "    </tr>\n",
       "    <tr>\n",
       "      <th>max</th>\n",
       "      <td>17.000000</td>\n",
       "      <td>199.000000</td>\n",
       "      <td>122.000000</td>\n",
       "      <td>99.000000</td>\n",
       "      <td>846.000000</td>\n",
       "      <td>67.100000</td>\n",
       "      <td>997.000000</td>\n",
       "      <td>81.000000</td>\n",
       "      <td>1.000000</td>\n",
       "      <td>767.000000</td>\n",
       "    </tr>\n",
       "  </tbody>\n",
       "</table>\n",
       "</div>"
      ],
      "text/plain": [
       "        embarazos     glucosa  presionArterial  espesorPiel    insulina  \\\n",
       "count  768.000000  768.000000       768.000000   768.000000  768.000000   \n",
       "mean     3.845052  120.894531        69.105469    20.536458   79.799479   \n",
       "std      3.369578   31.972618        19.355807    15.952218  115.244002   \n",
       "min      0.000000    0.000000         0.000000     0.000000    0.000000   \n",
       "25%      1.000000   99.000000        62.000000     0.000000    0.000000   \n",
       "50%      3.000000  117.000000        72.000000    23.000000   30.500000   \n",
       "75%      6.000000  140.250000        80.000000    32.000000  127.250000   \n",
       "max     17.000000  199.000000       122.000000    99.000000  846.000000   \n",
       "\n",
       "              bmi  diabetesPedigree        edad   resultado  index_column  \n",
       "count  768.000000        768.000000  768.000000  768.000000    768.000000  \n",
       "mean    31.992578        347.079349   33.240885    0.348958    383.500000  \n",
       "std      7.884160        254.431659   11.760232    0.476951    221.846794  \n",
       "min      0.000000          0.100000   21.000000    0.000000      0.000000  \n",
       "25%     27.300000        165.000000   24.000000    0.000000    191.750000  \n",
       "50%     32.000000        295.500000   29.000000    0.000000    383.500000  \n",
       "75%     36.600000        527.250000   41.000000    1.000000    575.250000  \n",
       "max     67.100000        997.000000   81.000000    1.000000    767.000000  "
      ]
     },
     "execution_count": 28,
     "metadata": {},
     "output_type": "execute_result"
    }
   ],
   "source": [
    "#Resumen de los datos\n",
    "df.describe()"
   ]
  },
  {
   "cell_type": "code",
   "execution_count": 29,
   "metadata": {
    "scrolled": true
   },
   "outputs": [
    {
     "name": "stdout",
     "output_type": "stream",
     "text": [
      "embarazos           [6, 1, 8, 0, 5, 3, 10, 2, 4, 7, 9, 11, 13, 15,...\n",
      "glucosa             [148, 85, 183, 89, 137, 116, 78, 115, 197, 125...\n",
      "presionArterial     [72, 66, 64, 40, 74, 50, 0, 70, 96, 92, 80, 60...\n",
      "espesorPiel         [35, 29, 0, 23, 32, 45, 19, 47, 38, 30, 41, 33...\n",
      "insulina            [0, 94, 168, 88, 543, 846, 175, 230, 83, 96, 2...\n",
      "bmi                 [33.6, 26.6, 23.3, 28.1, 43.1, 25.6, 31.0, 35....\n",
      "diabetesPedigree    [627.0, 351.0, 672.0, 167.0, 2.288, 201.0, 248...\n",
      "edad                [50, 31, 32, 21, 33, 30, 26, 29, 53, 54, 34, 5...\n",
      "dtype: object\n"
     ]
    }
   ],
   "source": [
    "# Verifico los datos sin repetir de cada columna e imprimo\n",
    "# Uso la funcion unique y uso las columnas en este caso axis=0 que son 9 y verifico los valores unicos sin repetir\n",
    "registros = df.apply(pd.unique, axis=0)\n",
    "print(registros[:-2])"
   ]
  },
  {
   "cell_type": "code",
   "execution_count": 30,
   "metadata": {
    "scrolled": true
   },
   "outputs": [],
   "source": [
    "# Uso la funcion apply para verificar el tamaño de cada registro y ver la cantidad de datos sin repetir\n",
    "totalSinRepetir = registros.apply(len)"
   ]
  },
  {
   "cell_type": "markdown",
   "metadata": {},
   "source": [
    "***- En este caso ``diabetesPedigree`` cuenta con 517 datos distintos y es el mayor por tanto es el atributo que tiene mayor dispersión***"
   ]
  },
  {
   "cell_type": "code",
   "execution_count": 31,
   "metadata": {},
   "outputs": [
    {
     "name": "stdout",
     "output_type": "stream",
     "text": [
      "embarazos            17\n",
      "glucosa             136\n",
      "presionArterial      47\n",
      "espesorPiel          51\n",
      "insulina            186\n",
      "bmi                 248\n",
      "diabetesPedigree    517\n",
      "edad                 52\n",
      "dtype: int64\n"
     ]
    }
   ],
   "source": [
    "print(totalSinRepetir[:-2])"
   ]
  },
  {
   "cell_type": "code",
   "execution_count": 32,
   "metadata": {
    "scrolled": false
   },
   "outputs": [
    {
     "name": "stdout",
     "output_type": "stream",
     "text": [
      "517\n",
      "diabetesPedigree\n"
     ]
    }
   ],
   "source": [
    "# Saco el mayo con la funcion max\n",
    "# Saco el nombre del atributo con mayor dispersión\n",
    "print(totalSinRepetir[:-2].max())\n",
    "print(totalSinRepetir[:-2].idxmax())"
   ]
  },
  {
   "cell_type": "markdown",
   "metadata": {},
   "source": [
    "***- Se puede verificar como ejemplo ``diabetesPedigree`` y ``edad`` donde se ve que la dispersión en ``diabetesPedigree`` esta mejor distribuida y en ``edad`` los datos estan mas juntos, es decir se repiten***"
   ]
  },
  {
   "cell_type": "code",
   "execution_count": 49,
   "metadata": {
    "scrolled": false
   },
   "outputs": [
    {
     "data": {
      "image/png": "[encoded data removed]",
      "text/plain": [
       "<Figure size 432x288 with 1 Axes>"
      ]
     },
     "metadata": {
      "needs_background": "light"
     },
     "output_type": "display_data"
    }
   ],
   "source": [
    "df['index_column'] = df.index\n",
    "dispersion_edad = df.plot.scatter(x=\"index_column\",y=\"edad\")"
   ]
  },
  {
   "cell_type": "code",
   "execution_count": 50,
   "metadata": {},
   "outputs": [
    {
     "data": {
      "text/plain": [
       "<AxesSubplot:xlabel='index_column', ylabel='diabetesPedigree'>"
      ]
     },
     "execution_count": 50,
     "metadata": {},
     "output_type": "execute_result"
    },
    {
     "data": {
      "image/png": "[encoded data removed]",
      "text/plain": [
       "<Figure size 432x288 with 1 Axes>"
      ]
     },
     "metadata": {
      "needs_background": "light"
     },
     "output_type": "display_data"
    }
   ],
   "source": [
    "df.plot.scatter(x=\"index_column\",y=\"diabetesPedigree\")"
   ]
  },
  {
   "cell_type": "markdown",
   "metadata": {
    "id": "vsDVSU5lq5QP"
   },
   "source": [
    "#### 8- Visualizar cada atributo usando el gráfico de caja\n",
    "Referencia: [Chart Visualization](https://pandas.pydata.org/pandas-docs/stable/user_guide/visualization.html) "
   ]
  },
  {
   "cell_type": "markdown",
   "metadata": {},
   "source": [
    "***- Se realizan los 9 graficos usando la libreria seaborn***"
   ]
  },
  {
   "cell_type": "code",
   "execution_count": 53,
   "metadata": {
    "scrolled": true
   },
   "outputs": [
    {
     "data": {
      "image/png": "[encoded data removed]",
      "text/plain": [
       "<Figure size 1440x720 with 8 Axes>"
      ]
     },
     "metadata": {
      "needs_background": "light"
     },
     "output_type": "display_data"
    }
   ],
   "source": [
    "import seaborn as sns\n",
    "fig, ax = plt.subplots(ncols=4, nrows=2, figsize=(20,10))\n",
    "index = 0\n",
    "ax = ax.flatten()\n",
    "\n",
    "for col, value in df.items():\n",
    "    if(value.name != \"id\" and value.name != 'resultado'):\n",
    "        sns.boxplot(y=col, data=df, color='b', ax=ax[index-1])\n",
    "        index += 1\n",
    "plt.tight_layout(pad=0.5, w_pad=0.7, h_pad=5.0)"
   ]
  },
  {
   "cell_type": "markdown",
   "metadata": {
    "id": "PbFbQVTRq5QP"
   },
   "source": [
    "#### 9- Grafique la distribución de frecuencias de los datos de la columna ``insulina``"
   ]
  },
  {
   "cell_type": "code",
   "execution_count": 59,
   "metadata": {
    "id": "acefz1vhNRd9"
   },
   "outputs": [
    {
     "name": "stdout",
     "output_type": "stream",
     "text": [
      "     Insulina  Cantidad\n",
      "0           0       374\n",
      "1         105        11\n",
      "2         130         9\n",
      "3         140         9\n",
      "4         120         8\n",
      "..        ...       ...\n",
      "181        73         1\n",
      "182       171         1\n",
      "183       255         1\n",
      "184        52         1\n",
      "185       112         1\n",
      "\n",
      "[186 rows x 2 columns]\n"
     ]
    },
    {
     "data": {
      "text/plain": [
       "<AxesSubplot:xlabel='Insulina'>"
      ]
     },
     "execution_count": 59,
     "metadata": {},
     "output_type": "execute_result"
    },
    {
     "data": {
      "image/png": "[encoded data removed]",
      "text/plain": [
       "<Figure size 1008x648 with 1 Axes>"
      ]
     },
     "metadata": {
      "needs_background": "light"
     },
     "output_type": "display_data"
    }
   ],
   "source": [
    "a = datos['insulina'].value_counts()\n",
    "a= a.to_frame().reset_index()\n",
    "a.columns=['Insulina','Cantidad']\n",
    "print(a)\n",
    "graf=a.sort_values(by=['Insulina'])\n",
    "graf.plot(stacked=True,x='Insulina',y='Cantidad',kind='bar',legend=False,figsize=(14, 9))\n",
    "\n"
   ]
  },
  {
   "cell_type": "markdown",
   "metadata": {
    "id": "_GdEdaPOq5QQ"
   },
   "source": [
    "#### 10- Visualizar la columna ``resultado`` en forma gráfica. Cantidad de 0 y 1.\n",
    "Referencia: [Chart Visualization](https://pandas.pydata.org/pandas-docs/stable/user_guide/visualization.html) \n",
    "\n",
    "Usar gráfico 'pie' "
   ]
  },
  {
   "cell_type": "code",
   "execution_count": 55,
   "metadata": {
    "id": "JIOcNnN1q5QQ",
    "scrolled": true
   },
   "outputs": [
    {
     "data": {
      "text/plain": [
       "<AxesSubplot:ylabel='resultado'>"
      ]
     },
     "execution_count": 55,
     "metadata": {},
     "output_type": "execute_result"
    },
    {
     "data": {
      "image/png": "[encoded data removed]",
      "text/plain": [
       "<Figure size 432x288 with 1 Axes>"
      ]
     },
     "metadata": {},
     "output_type": "display_data"
    }
   ],
   "source": [
    "a= datos.resultado.value_counts()\n",
    "a.plot.pie(autopct=\"%.2f\")"
   ]
  },
  {
   "cell_type": "markdown",
   "metadata": {
    "id": "JxZ1xdN8q5QQ"
   },
   "source": [
    "#### 11- Seleccione los registros que tienen diabetes (resultado == 1) y no tienen diabetes (resultado == 0)"
   ]
  },
  {
   "cell_type": "code",
   "execution_count": 58,
   "metadata": {
    "id": "okOMWe7uq5QQ",
    "scrolled": true
   },
   "outputs": [
    {
     "name": "stdout",
     "output_type": "stream",
     "text": [
      "     embarazos  glucosa  presionArterial  espesorPiel  insulina   bmi  \\\n",
      "0            6      148               72           35         0  33.6   \n",
      "2            8      183               64            0         0  23.3   \n",
      "4            0      137               40           35       168  43.1   \n",
      "6            3       78               50           32        88  31.0   \n",
      "8            2      197               70           45       543  30.5   \n",
      "..         ...      ...              ...          ...       ...   ...   \n",
      "755          1      128               88           39       110  36.5   \n",
      "757          0      123               72            0         0  36.3   \n",
      "759          6      190               92            0         0  35.5   \n",
      "761          9      170               74           31         0  44.0   \n",
      "766          1      126               60            0         0  30.1   \n",
      "\n",
      "     diabetesPedigree  edad  resultado  index_column  \n",
      "0             627.000    50          1             0  \n",
      "2             672.000    32          1             2  \n",
      "4               2.288    33          1             4  \n",
      "6             248.000    26          1             6  \n",
      "8             158.000    53          1             8  \n",
      "..                ...   ...        ...           ...  \n",
      "755             1.057    37          1           755  \n",
      "757           258.000    52          1           757  \n",
      "759           278.000    66          1           759  \n",
      "761           403.000    43          1           761  \n",
      "766           349.000    47          1           766  \n",
      "\n",
      "[268 rows x 10 columns]\n",
      "     embarazos  glucosa  presionArterial  espesorPiel  insulina   bmi  \\\n",
      "1            1       85               66           29         0  26.6   \n",
      "3            1       89               66           23        94  28.1   \n",
      "5            5      116               74            0         0  25.6   \n",
      "7           10      115                0            0         0  35.3   \n",
      "10           4      110               92            0         0  37.6   \n",
      "..         ...      ...              ...          ...       ...   ...   \n",
      "762          9       89               62            0         0  22.5   \n",
      "763         10      101               76           48       180  32.9   \n",
      "764          2      122               70           27         0  36.8   \n",
      "765          5      121               72           23       112  26.2   \n",
      "767          1       93               70           31         0  30.4   \n",
      "\n",
      "     diabetesPedigree  edad  resultado  index_column  \n",
      "1              351.00    31          0             1  \n",
      "3              167.00    21          0             3  \n",
      "5              201.00    30          0             5  \n",
      "7              134.00    29          0             7  \n",
      "10             191.00    30          0            10  \n",
      "..                ...   ...        ...           ...  \n",
      "762            142.00    33          0           762  \n",
      "763            171.00    63          0           763  \n",
      "764              0.34    27          0           764  \n",
      "765            245.00    30          0           765  \n",
      "767            315.00    23          0           767  \n",
      "\n",
      "[500 rows x 10 columns]\n"
     ]
    }
   ],
   "source": [
    "tieneDiabetes = datos['resultado'] == 1\n",
    "notieneDiabetes = datos['resultado'] == 0\n",
    "print(datos[tieneDiabetes])\n",
    "print(datos[notieneDiabetes])\n"
   ]
  },
  {
   "cell_type": "markdown",
   "metadata": {
    "id": "Wdg9LYCUq5QQ"
   },
   "source": [
    "#### 12- Realice un resumen estadístico de los que tienen diabetes"
   ]
  },
  {
   "cell_type": "code",
   "execution_count": 42,
   "metadata": {},
   "outputs": [
    {
     "data": {
      "text/html": [
       "<div>\n",
       "<style scoped>\n",
       "    .dataframe tbody tr th:only-of-type {\n",
       "        vertical-align: middle;\n",
       "    }\n",
       "\n",
       "    .dataframe tbody tr th {\n",
       "        vertical-align: top;\n",
       "    }\n",
       "\n",
       "    .dataframe thead th {\n",
       "        text-align: right;\n",
       "    }\n",
       "</style>\n",
       "<table border=\"1\" class=\"dataframe\">\n",
       "  <thead>\n",
       "    <tr style=\"text-align: right;\">\n",
       "      <th></th>\n",
       "      <th>embarazos</th>\n",
       "      <th>glucosa</th>\n",
       "      <th>presionArterial</th>\n",
       "      <th>espesorPiel</th>\n",
       "      <th>insulina</th>\n",
       "      <th>bmi</th>\n",
       "      <th>diabetesPedigree</th>\n",
       "      <th>edad</th>\n",
       "      <th>resultado</th>\n",
       "      <th>index_column</th>\n",
       "    </tr>\n",
       "  </thead>\n",
       "  <tbody>\n",
       "    <tr>\n",
       "      <th>count</th>\n",
       "      <td>268.000000</td>\n",
       "      <td>268.000000</td>\n",
       "      <td>268.000000</td>\n",
       "      <td>268.000000</td>\n",
       "      <td>268.000000</td>\n",
       "      <td>268.000000</td>\n",
       "      <td>268.000000</td>\n",
       "      <td>268.000000</td>\n",
       "      <td>268.0</td>\n",
       "      <td>268.000000</td>\n",
       "    </tr>\n",
       "    <tr>\n",
       "      <th>mean</th>\n",
       "      <td>4.865672</td>\n",
       "      <td>141.257463</td>\n",
       "      <td>70.824627</td>\n",
       "      <td>22.164179</td>\n",
       "      <td>100.335821</td>\n",
       "      <td>35.142537</td>\n",
       "      <td>379.063399</td>\n",
       "      <td>37.067164</td>\n",
       "      <td>1.0</td>\n",
       "      <td>369.817164</td>\n",
       "    </tr>\n",
       "    <tr>\n",
       "      <th>std</th>\n",
       "      <td>3.741239</td>\n",
       "      <td>31.939622</td>\n",
       "      <td>21.491812</td>\n",
       "      <td>17.679711</td>\n",
       "      <td>138.689125</td>\n",
       "      <td>7.262967</td>\n",
       "      <td>273.498889</td>\n",
       "      <td>10.968254</td>\n",
       "      <td>0.0</td>\n",
       "      <td>228.158464</td>\n",
       "    </tr>\n",
       "    <tr>\n",
       "      <th>min</th>\n",
       "      <td>0.000000</td>\n",
       "      <td>0.000000</td>\n",
       "      <td>0.000000</td>\n",
       "      <td>0.000000</td>\n",
       "      <td>0.000000</td>\n",
       "      <td>0.000000</td>\n",
       "      <td>0.150000</td>\n",
       "      <td>21.000000</td>\n",
       "      <td>1.0</td>\n",
       "      <td>0.000000</td>\n",
       "    </tr>\n",
       "    <tr>\n",
       "      <th>25%</th>\n",
       "      <td>1.750000</td>\n",
       "      <td>119.000000</td>\n",
       "      <td>66.000000</td>\n",
       "      <td>0.000000</td>\n",
       "      <td>0.000000</td>\n",
       "      <td>30.800000</td>\n",
       "      <td>178.000000</td>\n",
       "      <td>28.000000</td>\n",
       "      <td>1.0</td>\n",
       "      <td>187.750000</td>\n",
       "    </tr>\n",
       "    <tr>\n",
       "      <th>50%</th>\n",
       "      <td>4.000000</td>\n",
       "      <td>140.000000</td>\n",
       "      <td>74.000000</td>\n",
       "      <td>27.000000</td>\n",
       "      <td>0.000000</td>\n",
       "      <td>34.250000</td>\n",
       "      <td>343.500000</td>\n",
       "      <td>36.000000</td>\n",
       "      <td>1.0</td>\n",
       "      <td>352.000000</td>\n",
       "    </tr>\n",
       "    <tr>\n",
       "      <th>75%</th>\n",
       "      <td>8.000000</td>\n",
       "      <td>167.000000</td>\n",
       "      <td>82.000000</td>\n",
       "      <td>36.000000</td>\n",
       "      <td>167.250000</td>\n",
       "      <td>38.775000</td>\n",
       "      <td>583.750000</td>\n",
       "      <td>44.000000</td>\n",
       "      <td>1.0</td>\n",
       "      <td>581.000000</td>\n",
       "    </tr>\n",
       "    <tr>\n",
       "      <th>max</th>\n",
       "      <td>17.000000</td>\n",
       "      <td>199.000000</td>\n",
       "      <td>114.000000</td>\n",
       "      <td>99.000000</td>\n",
       "      <td>846.000000</td>\n",
       "      <td>67.100000</td>\n",
       "      <td>968.000000</td>\n",
       "      <td>70.000000</td>\n",
       "      <td>1.0</td>\n",
       "      <td>766.000000</td>\n",
       "    </tr>\n",
       "  </tbody>\n",
       "</table>\n",
       "</div>"
      ],
      "text/plain": [
       "        embarazos     glucosa  presionArterial  espesorPiel    insulina  \\\n",
       "count  268.000000  268.000000       268.000000   268.000000  268.000000   \n",
       "mean     4.865672  141.257463        70.824627    22.164179  100.335821   \n",
       "std      3.741239   31.939622        21.491812    17.679711  138.689125   \n",
       "min      0.000000    0.000000         0.000000     0.000000    0.000000   \n",
       "25%      1.750000  119.000000        66.000000     0.000000    0.000000   \n",
       "50%      4.000000  140.000000        74.000000    27.000000    0.000000   \n",
       "75%      8.000000  167.000000        82.000000    36.000000  167.250000   \n",
       "max     17.000000  199.000000       114.000000    99.000000  846.000000   \n",
       "\n",
       "              bmi  diabetesPedigree        edad  resultado  index_column  \n",
       "count  268.000000        268.000000  268.000000      268.0    268.000000  \n",
       "mean    35.142537        379.063399   37.067164        1.0    369.817164  \n",
       "std      7.262967        273.498889   10.968254        0.0    228.158464  \n",
       "min      0.000000          0.150000   21.000000        1.0      0.000000  \n",
       "25%     30.800000        178.000000   28.000000        1.0    187.750000  \n",
       "50%     34.250000        343.500000   36.000000        1.0    352.000000  \n",
       "75%     38.775000        583.750000   44.000000        1.0    581.000000  \n",
       "max     67.100000        968.000000   70.000000        1.0    766.000000  "
      ]
     },
     "execution_count": 42,
     "metadata": {},
     "output_type": "execute_result"
    }
   ],
   "source": [
    "datos[tieneDiabetes].describe()"
   ]
  },
  {
   "cell_type": "markdown",
   "metadata": {
    "id": "ZhmLRexlq5QR"
   },
   "source": [
    "#### 13-  Realice un resumen estadístico de los que NO tienen diabetes"
   ]
  },
  {
   "cell_type": "code",
   "execution_count": 43,
   "metadata": {
    "id": "ctwYC31vctN_"
   },
   "outputs": [
    {
     "data": {
      "text/html": [
       "<div>\n",
       "<style scoped>\n",
       "    .dataframe tbody tr th:only-of-type {\n",
       "        vertical-align: middle;\n",
       "    }\n",
       "\n",
       "    .dataframe tbody tr th {\n",
       "        vertical-align: top;\n",
       "    }\n",
       "\n",
       "    .dataframe thead th {\n",
       "        text-align: right;\n",
       "    }\n",
       "</style>\n",
       "<table border=\"1\" class=\"dataframe\">\n",
       "  <thead>\n",
       "    <tr style=\"text-align: right;\">\n",
       "      <th></th>\n",
       "      <th>embarazos</th>\n",
       "      <th>glucosa</th>\n",
       "      <th>presionArterial</th>\n",
       "      <th>espesorPiel</th>\n",
       "      <th>insulina</th>\n",
       "      <th>bmi</th>\n",
       "      <th>diabetesPedigree</th>\n",
       "      <th>edad</th>\n",
       "      <th>resultado</th>\n",
       "      <th>index_column</th>\n",
       "    </tr>\n",
       "  </thead>\n",
       "  <tbody>\n",
       "    <tr>\n",
       "      <th>count</th>\n",
       "      <td>500.000000</td>\n",
       "      <td>500.0000</td>\n",
       "      <td>500.000000</td>\n",
       "      <td>500.000000</td>\n",
       "      <td>500.000000</td>\n",
       "      <td>500.000000</td>\n",
       "      <td>500.000000</td>\n",
       "      <td>500.000000</td>\n",
       "      <td>500.0</td>\n",
       "      <td>500.000000</td>\n",
       "    </tr>\n",
       "    <tr>\n",
       "      <th>mean</th>\n",
       "      <td>3.298000</td>\n",
       "      <td>109.9800</td>\n",
       "      <td>68.184000</td>\n",
       "      <td>19.664000</td>\n",
       "      <td>68.792000</td>\n",
       "      <td>30.304200</td>\n",
       "      <td>329.935898</td>\n",
       "      <td>31.190000</td>\n",
       "      <td>0.0</td>\n",
       "      <td>390.834000</td>\n",
       "    </tr>\n",
       "    <tr>\n",
       "      <th>std</th>\n",
       "      <td>3.017185</td>\n",
       "      <td>26.1412</td>\n",
       "      <td>18.063075</td>\n",
       "      <td>14.889947</td>\n",
       "      <td>98.865289</td>\n",
       "      <td>7.689855</td>\n",
       "      <td>242.147038</td>\n",
       "      <td>11.667655</td>\n",
       "      <td>0.0</td>\n",
       "      <td>218.266881</td>\n",
       "    </tr>\n",
       "    <tr>\n",
       "      <th>min</th>\n",
       "      <td>0.000000</td>\n",
       "      <td>0.0000</td>\n",
       "      <td>0.000000</td>\n",
       "      <td>0.000000</td>\n",
       "      <td>0.000000</td>\n",
       "      <td>0.000000</td>\n",
       "      <td>0.100000</td>\n",
       "      <td>21.000000</td>\n",
       "      <td>0.0</td>\n",
       "      <td>1.000000</td>\n",
       "    </tr>\n",
       "    <tr>\n",
       "      <th>25%</th>\n",
       "      <td>1.000000</td>\n",
       "      <td>93.0000</td>\n",
       "      <td>62.000000</td>\n",
       "      <td>0.000000</td>\n",
       "      <td>0.000000</td>\n",
       "      <td>25.400000</td>\n",
       "      <td>163.500000</td>\n",
       "      <td>23.000000</td>\n",
       "      <td>0.0</td>\n",
       "      <td>199.000000</td>\n",
       "    </tr>\n",
       "    <tr>\n",
       "      <th>50%</th>\n",
       "      <td>2.000000</td>\n",
       "      <td>107.0000</td>\n",
       "      <td>70.000000</td>\n",
       "      <td>21.000000</td>\n",
       "      <td>39.000000</td>\n",
       "      <td>30.050000</td>\n",
       "      <td>284.000000</td>\n",
       "      <td>27.000000</td>\n",
       "      <td>0.0</td>\n",
       "      <td>404.000000</td>\n",
       "    </tr>\n",
       "    <tr>\n",
       "      <th>75%</th>\n",
       "      <td>5.000000</td>\n",
       "      <td>125.0000</td>\n",
       "      <td>78.000000</td>\n",
       "      <td>31.000000</td>\n",
       "      <td>105.000000</td>\n",
       "      <td>35.300000</td>\n",
       "      <td>487.250000</td>\n",
       "      <td>37.000000</td>\n",
       "      <td>0.0</td>\n",
       "      <td>572.250000</td>\n",
       "    </tr>\n",
       "    <tr>\n",
       "      <th>max</th>\n",
       "      <td>13.000000</td>\n",
       "      <td>197.0000</td>\n",
       "      <td>122.000000</td>\n",
       "      <td>60.000000</td>\n",
       "      <td>744.000000</td>\n",
       "      <td>57.300000</td>\n",
       "      <td>997.000000</td>\n",
       "      <td>81.000000</td>\n",
       "      <td>0.0</td>\n",
       "      <td>767.000000</td>\n",
       "    </tr>\n",
       "  </tbody>\n",
       "</table>\n",
       "</div>"
      ],
      "text/plain": [
       "        embarazos   glucosa  presionArterial  espesorPiel    insulina  \\\n",
       "count  500.000000  500.0000       500.000000   500.000000  500.000000   \n",
       "mean     3.298000  109.9800        68.184000    19.664000   68.792000   \n",
       "std      3.017185   26.1412        18.063075    14.889947   98.865289   \n",
       "min      0.000000    0.0000         0.000000     0.000000    0.000000   \n",
       "25%      1.000000   93.0000        62.000000     0.000000    0.000000   \n",
       "50%      2.000000  107.0000        70.000000    21.000000   39.000000   \n",
       "75%      5.000000  125.0000        78.000000    31.000000  105.000000   \n",
       "max     13.000000  197.0000       122.000000    60.000000  744.000000   \n",
       "\n",
       "              bmi  diabetesPedigree        edad  resultado  index_column  \n",
       "count  500.000000        500.000000  500.000000      500.0    500.000000  \n",
       "mean    30.304200        329.935898   31.190000        0.0    390.834000  \n",
       "std      7.689855        242.147038   11.667655        0.0    218.266881  \n",
       "min      0.000000          0.100000   21.000000        0.0      1.000000  \n",
       "25%     25.400000        163.500000   23.000000        0.0    199.000000  \n",
       "50%     30.050000        284.000000   27.000000        0.0    404.000000  \n",
       "75%     35.300000        487.250000   37.000000        0.0    572.250000  \n",
       "max     57.300000        997.000000   81.000000        0.0    767.000000  "
      ]
     },
     "execution_count": 43,
     "metadata": {},
     "output_type": "execute_result"
    }
   ],
   "source": [
    "datos[notieneDiabetes].describe()"
   ]
  },
  {
   "cell_type": "markdown",
   "metadata": {
    "id": "BCsf16Pfq5QR"
   },
   "source": [
    "#### 14- Para los que tienen Diabetes: grafique la estimación de densidad de las edades.\n",
    "Use el gráfico 'kde'"
   ]
  },
  {
   "cell_type": "code",
   "execution_count": 44,
   "metadata": {
    "id": "ZwG5XDW4di7G"
   },
   "outputs": [
    {
     "data": {
      "text/plain": [
       "<AxesSubplot:ylabel='Density'>"
      ]
     },
     "execution_count": 44,
     "metadata": {},
     "output_type": "execute_result"
    },
    {
     "data": {
      "image/png": "[encoded data removed]",
      "text/plain": [
       "<Figure size 432x288 with 1 Axes>"
      ]
     },
     "metadata": {
      "needs_background": "light"
     },
     "output_type": "display_data"
    }
   ],
   "source": [
    "datos[tieneDiabetes].edad.plot.kde()"
   ]
  },
  {
   "cell_type": "markdown",
   "metadata": {
    "id": "YsLMRSO3q5QR"
   },
   "source": [
    "#### 15- Para los que NO tienen Diabetes: grafique la estimación de densidad de las edades.\n"
   ]
  },
  {
   "cell_type": "code",
   "execution_count": 45,
   "metadata": {
    "id": "2shycfsmq5QR"
   },
   "outputs": [
    {
     "data": {
      "text/plain": [
       "<AxesSubplot:ylabel='Density'>"
      ]
     },
     "execution_count": 45,
     "metadata": {},
     "output_type": "execute_result"
    },
    {
     "data": {
      "image/png": "[encoded data removed]",
      "text/plain": [
       "<Figure size 432x288 with 1 Axes>"
      ]
     },
     "metadata": {
      "needs_background": "light"
     },
     "output_type": "display_data"
    }
   ],
   "source": [
    "datos[notieneDiabetes].edad.plot.kde()"
   ]
  },
  {
   "cell_type": "markdown",
   "metadata": {
    "id": "rrAFLE8Qq5QS"
   },
   "source": [
    "#### 16- Guardar el DataFrame de lo que tienen Diabetes en un archivo, que llamaremos datos_con_diabetes.csv, en formato csv y sin el índice."
   ]
  },
  {
   "cell_type": "code",
   "execution_count": 46,
   "metadata": {
    "id": "GhDj0fPqe0VD"
   },
   "outputs": [],
   "source": [
    " datos[seleccion1].to_csv('datos_con_diabetes.csv', sep = ',', index = False)"
   ]
  },
  {
   "cell_type": "markdown",
   "metadata": {
    "id": "867cWCVrrLN2"
   },
   "source": [
    "¿Que otras preguntas podría responder en la exploración de este conjunto de datos?"
   ]
  },
  {
   "cell_type": "markdown",
   "metadata": {},
   "source": [
    "***- Se puede ver claramente que 35% de la población de los datos tienen diabates y de los cuales la edad esta\n",
    "comprendida entre 20 a 60 años con picos mayores, tambien se puede ver los valores maximos,minimos, promedios, insulina entre otros en el resumen estadisticos de los que tienen y no tienen diabetes***"
   ]
  },
  {
   "cell_type": "markdown",
   "metadata": {
    "id": "Z4tq80zlrMKV"
   },
   "source": []
  }
 ],
 "metadata": {
  "colab": {
   "collapsed_sections": [],
   "provenance": []
  },
  "kernelspec": {
   "display_name": "Python 3 (ipykernel)",
   "language": "python",
   "name": "python3"
  },
  "language_info": {
   "codemirror_mode": {
    "name": "ipython",
    "version": 3
   },
   "file_extension": ".py",
   "mimetype": "text/x-python",
   "name": "python",
   "nbconvert_exporter": "python",
   "pygments_lexer": "ipython3",
   "version": "3.9.12"
  }
 },
 "nbformat": 4,
 "nbformat_minor": 1
}
